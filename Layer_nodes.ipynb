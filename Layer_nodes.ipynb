{
  "nbformat": 4,
  "nbformat_minor": 0,
  "metadata": {
    "kernelspec": {
      "display_name": "Python 3",
      "language": "python",
      "name": "python3"
    },
    "language_info": {
      "codemirror_mode": {
        "name": "ipython",
        "version": 3
      },
      "file_extension": ".py",
      "mimetype": "text/x-python",
      "name": "python",
      "nbconvert_exporter": "python",
      "pygments_lexer": "ipython3",
      "version": "3.7.1"
    },
    "colab": {
      "name": "Layer nodes.ipynb",
      "provenance": [],
      "include_colab_link": true
    }
  },
  "cells": [
    {
      "cell_type": "markdown",
      "metadata": {
        "id": "view-in-github",
        "colab_type": "text"
      },
      "source": [
        "<a href=\"https://colab.research.google.com/github/fernandofsilva/Keras/blob/main/Layer_nodes.ipynb\" target=\"_parent\"><img src=\"https://colab.research.google.com/assets/colab-badge.svg\" alt=\"Open In Colab\"/></a>"
      ]
    },
    {
      "cell_type": "markdown",
      "metadata": {
        "id": "-a2KdExdRScB"
      },
      "source": [
        "# Layer nodes\n",
        "In this reading, we will be looking at the concept of layer nodes when creating a computational graph with shared layers."
      ]
    },
    {
      "cell_type": "code",
      "metadata": {
        "id": "vnRCfSLhRScC",
        "outputId": "b7ebf1f6-313b-488b-8110-723e3b90dffc",
        "colab": {
          "base_uri": "https://localhost:8080/"
        }
      },
      "source": [
        "import tensorflow as tf\n",
        "print(tf.__version__)"
      ],
      "execution_count": 1,
      "outputs": [
        {
          "output_type": "stream",
          "text": [
            "2.3.0\n"
          ],
          "name": "stdout"
        }
      ]
    },
    {
      "cell_type": "markdown",
      "metadata": {
        "id": "xmLYT7HCRScI"
      },
      "source": [
        "## Creating a simple computational graph"
      ]
    },
    {
      "cell_type": "markdown",
      "metadata": {
        "id": "T8R1qjkyRScI"
      },
      "source": [
        "You have previously seen how to construct multiple input or output models, and also how to access model layers. Let's start by creating two inputs:"
      ]
    },
    {
      "cell_type": "code",
      "metadata": {
        "id": "Xu803TS8RScJ"
      },
      "source": [
        "# Create the input layers\n",
        "\n",
        "from tensorflow.keras.layers import Input\n",
        "\n",
        "a = Input(shape=(128, 128, 3), name=\"input_a\")\n",
        "b = Input(shape=(64, 64, 3), name=\"input_b\")"
      ],
      "execution_count": 2,
      "outputs": []
    },
    {
      "cell_type": "markdown",
      "metadata": {
        "id": "uRPR8Qj4RScN"
      },
      "source": [
        "Now, we create a 2D convolutional layer, and call it on one of the inputs."
      ]
    },
    {
      "cell_type": "code",
      "metadata": {
        "id": "uxqJoXv7RScN",
        "outputId": "352b4693-ebb5-43b9-a4a8-fa9dcbb8c6b7",
        "colab": {
          "base_uri": "https://localhost:8080/"
        }
      },
      "source": [
        "# Create and use the convolutional layer\n",
        "\n",
        "from tensorflow.keras.layers import Conv2D\n",
        "\n",
        "conv = Conv2D(32, (6, 6), padding='same')\n",
        "conv_out_a = conv(a)\n",
        "print(type(conv_out_a))"
      ],
      "execution_count": 3,
      "outputs": [
        {
          "output_type": "stream",
          "text": [
            "<class 'tensorflow.python.framework.ops.Tensor'>\n"
          ],
          "name": "stdout"
        }
      ]
    },
    {
      "cell_type": "markdown",
      "metadata": {
        "id": "L_HU4EX5RScP"
      },
      "source": [
        "The output of the layer is now a new Tensor, which captures the operation of calling the layer `conv` on the input `a`.\n",
        "\n",
        "By defining this new operation in our computational graph, we have added a _node_ to the `conv` layer. This node relates the input tensor to the output tensor."
      ]
    },
    {
      "cell_type": "markdown",
      "metadata": {
        "id": "lnzoplaFRScQ"
      },
      "source": [
        "### Layer input and outputs"
      ]
    },
    {
      "cell_type": "markdown",
      "metadata": {
        "id": "qURkyZFZRScQ"
      },
      "source": [
        "We can retrieve the output of a layer using the `output` attribute, and we can also get the input by using the `input` attribute. \n",
        "\n",
        "Similarly, we can retrieve the input/output shape using `input_shape` and `output_shape`."
      ]
    },
    {
      "cell_type": "code",
      "metadata": {
        "id": "ed1DdwHkRScQ",
        "outputId": "019ceff3-a915-4921-dc68-a41d8d5a9b35",
        "colab": {
          "base_uri": "https://localhost:8080/"
        }
      },
      "source": [
        "# Print the input and output tensors\n",
        "\n",
        "print(conv.input)\n",
        "print(conv.output)"
      ],
      "execution_count": 4,
      "outputs": [
        {
          "output_type": "stream",
          "text": [
            "Tensor(\"input_a:0\", shape=(None, 128, 128, 3), dtype=float32)\n",
            "Tensor(\"conv2d/BiasAdd:0\", shape=(None, 128, 128, 32), dtype=float32)\n"
          ],
          "name": "stdout"
        }
      ]
    },
    {
      "cell_type": "code",
      "metadata": {
        "id": "x6qgN_8SRScT"
      },
      "source": [
        "# Verify the input and output shapes\n",
        "\n",
        "assert conv.input_shape == (None, 128, 128, 3)\n",
        "assert conv.output_shape == (None, 128, 128, 32)"
      ],
      "execution_count": 5,
      "outputs": []
    },
    {
      "cell_type": "markdown",
      "metadata": {
        "id": "UJUyuREtRScU"
      },
      "source": [
        "## Creating a new layer node"
      ]
    },
    {
      "cell_type": "markdown",
      "metadata": {
        "id": "LOiA6TorRScU"
      },
      "source": [
        "Now, let's call this layer again on a different input:"
      ]
    },
    {
      "cell_type": "code",
      "metadata": {
        "id": "njLuI_QLRScV"
      },
      "source": [
        "# Call the layer a second time\n",
        "\n",
        "conv_out_b = conv(b)"
      ],
      "execution_count": 6,
      "outputs": []
    },
    {
      "cell_type": "markdown",
      "metadata": {
        "id": "4__il0emRScW"
      },
      "source": [
        "When we call the same layer multiple times, that layer owns multiple nodes indexed as 0, 1, 2...\n",
        "\n",
        "Now, what happens if we call `input` and `output` for this layer?"
      ]
    },
    {
      "cell_type": "code",
      "metadata": {
        "id": "O20EIVX5RScW"
      },
      "source": [
        "# Check the input and output attributes\n",
        "\n",
        "assert conv.input.name == a.name\n",
        "assert conv.output.name == conv_out_a.name"
      ],
      "execution_count": 7,
      "outputs": []
    },
    {
      "cell_type": "markdown",
      "metadata": {
        "id": "vVTkLBY_RScX"
      },
      "source": [
        "As you can see, the layer's input is identified as being `a` and its output as being `conved_a`, something is going wrong here. As long as a layer is only connected to one input, there is no confusion about what should be the input, and `.output` will return the one output of the layer, but when the layer is called on multiple inputs we end up in an ambiguous situation.\n",
        "\n",
        "Let's try to get the input/output shape:"
      ]
    },
    {
      "cell_type": "code",
      "metadata": {
        "id": "qL2OtqFfRScY",
        "outputId": "165f5b9f-fbd4-4bce-df99-3c2c5700325a",
        "colab": {
          "base_uri": "https://localhost:8080/",
          "height": 334
        }
      },
      "source": [
        "# Try accessing the input_shape\n",
        "\n",
        "print(conv.input_shape)"
      ],
      "execution_count": 8,
      "outputs": [
        {
          "output_type": "error",
          "ename": "AttributeError",
          "evalue": "ignored",
          "traceback": [
            "\u001b[0;31m---------------------------------------------------------------------------\u001b[0m",
            "\u001b[0;31mAttributeError\u001b[0m                            Traceback (most recent call last)",
            "\u001b[0;32m<ipython-input-8-3303fc9d23af>\u001b[0m in \u001b[0;36m<module>\u001b[0;34m()\u001b[0m\n\u001b[1;32m      1\u001b[0m \u001b[0;31m# Try accessing the input_shape\u001b[0m\u001b[0;34m\u001b[0m\u001b[0;34m\u001b[0m\u001b[0;34m\u001b[0m\u001b[0m\n\u001b[1;32m      2\u001b[0m \u001b[0;34m\u001b[0m\u001b[0m\n\u001b[0;32m----> 3\u001b[0;31m \u001b[0mprint\u001b[0m\u001b[0;34m(\u001b[0m\u001b[0mconv\u001b[0m\u001b[0;34m.\u001b[0m\u001b[0minput_shape\u001b[0m\u001b[0;34m)\u001b[0m\u001b[0;34m\u001b[0m\u001b[0;34m\u001b[0m\u001b[0m\n\u001b[0m",
            "\u001b[0;32m/usr/local/lib/python3.6/dist-packages/tensorflow/python/keras/engine/base_layer.py\u001b[0m in \u001b[0;36minput_shape\u001b[0;34m(self)\u001b[0m\n\u001b[1;32m   2132\u001b[0m     \u001b[0;32melse\u001b[0m\u001b[0;34m:\u001b[0m\u001b[0;34m\u001b[0m\u001b[0;34m\u001b[0m\u001b[0m\n\u001b[1;32m   2133\u001b[0m       raise AttributeError('The layer \"' + str(self.name) +\n\u001b[0;32m-> 2134\u001b[0;31m                            \u001b[0;34m' has multiple inbound nodes, '\u001b[0m\u001b[0;34m\u001b[0m\u001b[0;34m\u001b[0m\u001b[0m\n\u001b[0m\u001b[1;32m   2135\u001b[0m                            \u001b[0;34m'with different input shapes. Hence '\u001b[0m\u001b[0;34m\u001b[0m\u001b[0;34m\u001b[0m\u001b[0m\n\u001b[1;32m   2136\u001b[0m                            \u001b[0;34m'the notion of \"input shape\" is '\u001b[0m\u001b[0;34m\u001b[0m\u001b[0;34m\u001b[0m\u001b[0m\n",
            "\u001b[0;31mAttributeError\u001b[0m: The layer \"conv2d has multiple inbound nodes, with different input shapes. Hence the notion of \"input shape\" is ill-defined for the layer. Use `get_input_shape_at(node_index)` instead."
          ]
        }
      ]
    },
    {
      "cell_type": "code",
      "metadata": {
        "id": "v-fq6dmhRScZ"
      },
      "source": [
        "# Try accessing the output_shape\n",
        "\n",
        "print(conv.output_shape)"
      ],
      "execution_count": null,
      "outputs": []
    },
    {
      "cell_type": "markdown",
      "metadata": {
        "id": "53poautBRSca"
      },
      "source": [
        "`input_shape` and `output_shape` did not return the shape of the two inputs and outputs, instead they returned an error."
      ]
    },
    {
      "cell_type": "markdown",
      "metadata": {
        "id": "hSy7XGCIRScb"
      },
      "source": [
        "### Indexing layer nodes"
      ]
    },
    {
      "cell_type": "markdown",
      "metadata": {
        "id": "u2SoR6a8RScb"
      },
      "source": [
        "We have applied the same Conv2D layer to an input of shape (128, 128, 3), and then to an input of shape (64, 64, 3), therefore the layer has multiple input/output shapes, for this reason we now have to retrieve them by specifying the index of the node they belong to.\n",
        "\n",
        "To get the inputs/outputs shapes, we now have to use `get_input_shape_at` and `get_output_shape_at` with the correct index:"
      ]
    },
    {
      "cell_type": "code",
      "metadata": {
        "id": "TfC--VaDRScb"
      },
      "source": [
        "# Print the input and output shapes for each layer node\n",
        "\n",
        "assert conv.get_input_shape_at(0) == (None, 128, 128, 3)  # Tensor a\n",
        "assert conv.get_input_shape_at(1) == (None, 64, 64, 3)  # Tensor b\n",
        "\n",
        "assert conv.get_output_shape_at(0) == (None, 128, 128, 32)  # Tensor conv_out_a\n",
        "assert conv.get_output_shape_at(1) == (None, 64, 64, 32)  # Tensor conv_out_b"
      ],
      "execution_count": null,
      "outputs": []
    },
    {
      "cell_type": "markdown",
      "metadata": {
        "id": "wibOXLTsRScd"
      },
      "source": [
        "Likewise, we use `get_input_at` and `get_output_at` to fetch the inputs/outputs:"
      ]
    },
    {
      "cell_type": "code",
      "metadata": {
        "id": "HaQyiTUCRScd"
      },
      "source": [
        "assert conv.get_input_at(0).name == a.name\n",
        "assert conv.get_input_at(1).name == b.name\n",
        "\n",
        "assert conv.get_output_at(0).name == conv_out_a.name\n",
        "assert conv.get_output_at(1).name == conv_out_b.name"
      ],
      "execution_count": null,
      "outputs": []
    },
    {
      "cell_type": "markdown",
      "metadata": {
        "id": "A2pi0WHBRSce"
      },
      "source": [
        "## Further reading and resources \n",
        "* https://keras.io/getting-started/functional-api-guide/#the-concept-of-layer-node"
      ]
    }
  ]
}