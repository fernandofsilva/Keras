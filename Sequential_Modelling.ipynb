{
  "nbformat": 4,
  "nbformat_minor": 0,
  "metadata": {
    "kernelspec": {
      "display_name": "Python 3",
      "language": "python",
      "name": "python3"
    },
    "language_info": {
      "codemirror_mode": {
        "name": "ipython",
        "version": 3
      },
      "file_extension": ".py",
      "mimetype": "text/x-python",
      "name": "python",
      "nbconvert_exporter": "python",
      "pygments_lexer": "ipython3",
      "version": "3.7.1"
    },
    "colab": {
      "name": "Sequential_Modelling.ipynb",
      "provenance": [],
      "include_colab_link": true
    }
  },
  "cells": [
    {
      "cell_type": "markdown",
      "metadata": {
        "id": "view-in-github",
        "colab_type": "text"
      },
      "source": [
        "<a href=\"https://colab.research.google.com/github/fernandofsilva/Keras/blob/main/Sequential_Modelling.ipynb\" target=\"_parent\"><img src=\"https://colab.research.google.com/assets/colab-badge.svg\" alt=\"Open In Colab\"/></a>"
      ]
    },
    {
      "cell_type": "code",
      "metadata": {
        "id": "O6n5QMBTqWes",
        "outputId": "bf193696-ee22-40fb-b2bf-1af88508ed56",
        "colab": {
          "base_uri": "https://localhost:8080/"
        }
      },
      "source": [
        "import tensorflow as tf\n",
        "print(tf.__version__)"
      ],
      "execution_count": 1,
      "outputs": [
        {
          "output_type": "stream",
          "text": [
            "2.3.0\n"
          ],
          "name": "stdout"
        }
      ]
    },
    {
      "cell_type": "markdown",
      "metadata": {
        "id": "mRNY47nTqWe0"
      },
      "source": [
        "# Sequence modelling \n",
        "\n",
        "## Coding tutorials\n",
        " #### [1.  The IMDb dataset](#coding_tutorial_1)\n",
        " #### [2. Padding and masking sequence data](#coding_tutorial_2)\n",
        " #### [3. The Embedding layer](#coding_tutorial_3)\n",
        " #### [4. The Embedding Projector](#coding_tutorial_4)\n",
        " #### [5. Recurrent neural network layers](#coding_tutorial_5)\n",
        " #### [6. Stacked RNNs and the Bidirectional wrapper](#coding_tutorial_6)"
      ]
    },
    {
      "cell_type": "markdown",
      "metadata": {
        "id": "XYnUeX17qWe1"
      },
      "source": [
        "***\n",
        "<a id=\"coding_tutorial_1\"></a>\n",
        "## The IMDb Dataset"
      ]
    },
    {
      "cell_type": "markdown",
      "metadata": {
        "id": "wUPjV8UpqWe2"
      },
      "source": [
        "#### Load the IMDB review sentiment dataset"
      ]
    },
    {
      "cell_type": "code",
      "metadata": {
        "id": "Vl817rQpqWe3"
      },
      "source": [
        "# Import imdb\n",
        "import tensorflow.keras.datasets.imdb as imdb"
      ],
      "execution_count": 2,
      "outputs": []
    },
    {
      "cell_type": "code",
      "metadata": {
        "id": "EyF8_JR7qWe6",
        "outputId": "1b6b1880-3dad-4897-f08e-518d6fed2132",
        "colab": {
          "base_uri": "https://localhost:8080/"
        }
      },
      "source": [
        "# Download and assign the data set using load_data()\n",
        "(x_train, y_train), (x_test, y_test) = imdb.load_data()"
      ],
      "execution_count": 3,
      "outputs": [
        {
          "output_type": "stream",
          "text": [
            "Downloading data from https://storage.googleapis.com/tensorflow/tf-keras-datasets/imdb.npz\n",
            "17465344/17464789 [==============================] - 0s 0us/step\n"
          ],
          "name": "stdout"
        }
      ]
    },
    {
      "cell_type": "markdown",
      "metadata": {
        "id": "gg2UyAM2qWe9"
      },
      "source": [
        "#### Inspect the dataset"
      ]
    },
    {
      "cell_type": "code",
      "metadata": {
        "id": "30LmIjBVqWe-",
        "outputId": "ef9df1c0-1cea-45da-8749-04831f1c5294",
        "colab": {
          "base_uri": "https://localhost:8080/"
        }
      },
      "source": [
        "# Inspect the type of the data\n",
        "type(x_train)"
      ],
      "execution_count": 4,
      "outputs": [
        {
          "output_type": "execute_result",
          "data": {
            "text/plain": [
              "numpy.ndarray"
            ]
          },
          "metadata": {
            "tags": []
          },
          "execution_count": 4
        }
      ]
    },
    {
      "cell_type": "code",
      "metadata": {
        "id": "isfrbFs6qWfB",
        "outputId": "43bd60c2-904a-41c8-fac4-8c2dc2421427",
        "colab": {
          "base_uri": "https://localhost:8080/"
        }
      },
      "source": [
        "# Display the first dataset element input\n",
        "# Notice encoding\n",
        "x_train[0]"
      ],
      "execution_count": 5,
      "outputs": [
        {
          "output_type": "execute_result",
          "data": {
            "text/plain": [
              "[1,\n",
              " 14,\n",
              " 22,\n",
              " 16,\n",
              " 43,\n",
              " 530,\n",
              " 973,\n",
              " 1622,\n",
              " 1385,\n",
              " 65,\n",
              " 458,\n",
              " 4468,\n",
              " 66,\n",
              " 3941,\n",
              " 4,\n",
              " 173,\n",
              " 36,\n",
              " 256,\n",
              " 5,\n",
              " 25,\n",
              " 100,\n",
              " 43,\n",
              " 838,\n",
              " 112,\n",
              " 50,\n",
              " 670,\n",
              " 22665,\n",
              " 9,\n",
              " 35,\n",
              " 480,\n",
              " 284,\n",
              " 5,\n",
              " 150,\n",
              " 4,\n",
              " 172,\n",
              " 112,\n",
              " 167,\n",
              " 21631,\n",
              " 336,\n",
              " 385,\n",
              " 39,\n",
              " 4,\n",
              " 172,\n",
              " 4536,\n",
              " 1111,\n",
              " 17,\n",
              " 546,\n",
              " 38,\n",
              " 13,\n",
              " 447,\n",
              " 4,\n",
              " 192,\n",
              " 50,\n",
              " 16,\n",
              " 6,\n",
              " 147,\n",
              " 2025,\n",
              " 19,\n",
              " 14,\n",
              " 22,\n",
              " 4,\n",
              " 1920,\n",
              " 4613,\n",
              " 469,\n",
              " 4,\n",
              " 22,\n",
              " 71,\n",
              " 87,\n",
              " 12,\n",
              " 16,\n",
              " 43,\n",
              " 530,\n",
              " 38,\n",
              " 76,\n",
              " 15,\n",
              " 13,\n",
              " 1247,\n",
              " 4,\n",
              " 22,\n",
              " 17,\n",
              " 515,\n",
              " 17,\n",
              " 12,\n",
              " 16,\n",
              " 626,\n",
              " 18,\n",
              " 19193,\n",
              " 5,\n",
              " 62,\n",
              " 386,\n",
              " 12,\n",
              " 8,\n",
              " 316,\n",
              " 8,\n",
              " 106,\n",
              " 5,\n",
              " 4,\n",
              " 2223,\n",
              " 5244,\n",
              " 16,\n",
              " 480,\n",
              " 66,\n",
              " 3785,\n",
              " 33,\n",
              " 4,\n",
              " 130,\n",
              " 12,\n",
              " 16,\n",
              " 38,\n",
              " 619,\n",
              " 5,\n",
              " 25,\n",
              " 124,\n",
              " 51,\n",
              " 36,\n",
              " 135,\n",
              " 48,\n",
              " 25,\n",
              " 1415,\n",
              " 33,\n",
              " 6,\n",
              " 22,\n",
              " 12,\n",
              " 215,\n",
              " 28,\n",
              " 77,\n",
              " 52,\n",
              " 5,\n",
              " 14,\n",
              " 407,\n",
              " 16,\n",
              " 82,\n",
              " 10311,\n",
              " 8,\n",
              " 4,\n",
              " 107,\n",
              " 117,\n",
              " 5952,\n",
              " 15,\n",
              " 256,\n",
              " 4,\n",
              " 31050,\n",
              " 7,\n",
              " 3766,\n",
              " 5,\n",
              " 723,\n",
              " 36,\n",
              " 71,\n",
              " 43,\n",
              " 530,\n",
              " 476,\n",
              " 26,\n",
              " 400,\n",
              " 317,\n",
              " 46,\n",
              " 7,\n",
              " 4,\n",
              " 12118,\n",
              " 1029,\n",
              " 13,\n",
              " 104,\n",
              " 88,\n",
              " 4,\n",
              " 381,\n",
              " 15,\n",
              " 297,\n",
              " 98,\n",
              " 32,\n",
              " 2071,\n",
              " 56,\n",
              " 26,\n",
              " 141,\n",
              " 6,\n",
              " 194,\n",
              " 7486,\n",
              " 18,\n",
              " 4,\n",
              " 226,\n",
              " 22,\n",
              " 21,\n",
              " 134,\n",
              " 476,\n",
              " 26,\n",
              " 480,\n",
              " 5,\n",
              " 144,\n",
              " 30,\n",
              " 5535,\n",
              " 18,\n",
              " 51,\n",
              " 36,\n",
              " 28,\n",
              " 224,\n",
              " 92,\n",
              " 25,\n",
              " 104,\n",
              " 4,\n",
              " 226,\n",
              " 65,\n",
              " 16,\n",
              " 38,\n",
              " 1334,\n",
              " 88,\n",
              " 12,\n",
              " 16,\n",
              " 283,\n",
              " 5,\n",
              " 16,\n",
              " 4472,\n",
              " 113,\n",
              " 103,\n",
              " 32,\n",
              " 15,\n",
              " 16,\n",
              " 5345,\n",
              " 19,\n",
              " 178,\n",
              " 32]"
            ]
          },
          "metadata": {
            "tags": []
          },
          "execution_count": 5
        }
      ]
    },
    {
      "cell_type": "code",
      "metadata": {
        "id": "uJ_L1f9AqWfD",
        "outputId": "3217ae2c-e66a-420f-9b81-1474c0340936",
        "colab": {
          "base_uri": "https://localhost:8080/"
        }
      },
      "source": [
        "# Display the first dataset element output\n",
        "y_train[0]"
      ],
      "execution_count": 6,
      "outputs": [
        {
          "output_type": "execute_result",
          "data": {
            "text/plain": [
              "1"
            ]
          },
          "metadata": {
            "tags": []
          },
          "execution_count": 6
        }
      ]
    },
    {
      "cell_type": "markdown",
      "metadata": {
        "id": "N0ccB7xdqWfG"
      },
      "source": [
        "#### Load dataset with different options"
      ]
    },
    {
      "cell_type": "code",
      "metadata": {
        "id": "cPNrDScMqWfG"
      },
      "source": [
        "# Load the dataset with defaults\n",
        "imdb.load_data(path='imdb.npz', index_from=3)\n",
        "# ~/.keras/dataset/"
      ],
      "execution_count": null,
      "outputs": []
    },
    {
      "cell_type": "code",
      "metadata": {
        "id": "d35NLYS5qWfJ"
      },
      "source": [
        "# Limit the vocabulary to the top 500 words using num_words\n",
        "imdb.load_data(num_words=1000)"
      ],
      "execution_count": null,
      "outputs": []
    },
    {
      "cell_type": "code",
      "metadata": {
        "id": "qI2qaAGMqWfL"
      },
      "source": [
        "# Ignore the top 10 most frequent words using skip_top\n",
        "imdb.load_data(skip_top=10, num_words=1000, oov_char=2)"
      ],
      "execution_count": null,
      "outputs": []
    },
    {
      "cell_type": "code",
      "metadata": {
        "id": "LLtkdgRmqWfN"
      },
      "source": [
        "# Limit the sequence lengths to 500 using maxlen\n",
        "imdb.load_data(maxlen=500)"
      ],
      "execution_count": null,
      "outputs": []
    },
    {
      "cell_type": "code",
      "metadata": {
        "id": "hk2YMIklqWfP"
      },
      "source": [
        "# Use '1' as the character that indicates the start of a sequence\n",
        "imdb.load_data(start_char=1)"
      ],
      "execution_count": null,
      "outputs": []
    },
    {
      "cell_type": "markdown",
      "metadata": {
        "id": "lh67OyOfqWfQ"
      },
      "source": [
        "#### Explore the dataset word index"
      ]
    },
    {
      "cell_type": "code",
      "metadata": {
        "id": "xehCPd2DqWfQ",
        "outputId": "a9f9bcdd-25de-4860-8fc4-fbbc731aae94",
        "colab": {
          "base_uri": "https://localhost:8080/"
        }
      },
      "source": [
        "# Load the imdb word index using get_word_index()\n",
        "imbd_word_index = imdb.get_word_index()"
      ],
      "execution_count": 7,
      "outputs": [
        {
          "output_type": "stream",
          "text": [
            "Downloading data from https://storage.googleapis.com/tensorflow/tf-keras-datasets/imdb_word_index.json\n",
            "1646592/1641221 [==============================] - 0s 0us/step\n"
          ],
          "name": "stdout"
        }
      ]
    },
    {
      "cell_type": "code",
      "metadata": {
        "id": "UdzKNGK4qWfS"
      },
      "source": [
        "# View the word index as a dictionary,\n",
        "# accounting for index_from.\n",
        "index_from = 3\n",
        "imbd_word_index = {key:value + index_from for key, value in imbd_word_index.items()}"
      ],
      "execution_count": 8,
      "outputs": []
    },
    {
      "cell_type": "code",
      "metadata": {
        "id": "8mf_VB73qWfU",
        "outputId": "1927f144-269f-4d29-ea38-29550c91ff93",
        "colab": {
          "base_uri": "https://localhost:8080/"
        }
      },
      "source": [
        "# Retrieve a specific word's index\n",
        "imbd_word_index['simpsonian']"
      ],
      "execution_count": 9,
      "outputs": [
        {
          "output_type": "execute_result",
          "data": {
            "text/plain": [
              "52256"
            ]
          },
          "metadata": {
            "tags": []
          },
          "execution_count": 9
        }
      ]
    },
    {
      "cell_type": "code",
      "metadata": {
        "id": "XPJ4wPMfqWfW",
        "outputId": "256df435-b3c4-421b-ae22-0983d1d9cb5b",
        "colab": {
          "base_uri": "https://localhost:8080/"
        }
      },
      "source": [
        "# View an input sentence\n",
        "inv_imdb_word_index = {value: key for key, value in imbd_word_index.items()}\n",
        "[inv_imdb_word_index[index] for index in x_train[0] if index > index_from]"
      ],
      "execution_count": 10,
      "outputs": [
        {
          "output_type": "execute_result",
          "data": {
            "text/plain": [
              "['this',\n",
              " 'film',\n",
              " 'was',\n",
              " 'just',\n",
              " 'brilliant',\n",
              " 'casting',\n",
              " 'location',\n",
              " 'scenery',\n",
              " 'story',\n",
              " 'direction',\n",
              " \"everyone's\",\n",
              " 'really',\n",
              " 'suited',\n",
              " 'the',\n",
              " 'part',\n",
              " 'they',\n",
              " 'played',\n",
              " 'and',\n",
              " 'you',\n",
              " 'could',\n",
              " 'just',\n",
              " 'imagine',\n",
              " 'being',\n",
              " 'there',\n",
              " 'robert',\n",
              " \"redford's\",\n",
              " 'is',\n",
              " 'an',\n",
              " 'amazing',\n",
              " 'actor',\n",
              " 'and',\n",
              " 'now',\n",
              " 'the',\n",
              " 'same',\n",
              " 'being',\n",
              " 'director',\n",
              " \"norman's\",\n",
              " 'father',\n",
              " 'came',\n",
              " 'from',\n",
              " 'the',\n",
              " 'same',\n",
              " 'scottish',\n",
              " 'island',\n",
              " 'as',\n",
              " 'myself',\n",
              " 'so',\n",
              " 'i',\n",
              " 'loved',\n",
              " 'the',\n",
              " 'fact',\n",
              " 'there',\n",
              " 'was',\n",
              " 'a',\n",
              " 'real',\n",
              " 'connection',\n",
              " 'with',\n",
              " 'this',\n",
              " 'film',\n",
              " 'the',\n",
              " 'witty',\n",
              " 'remarks',\n",
              " 'throughout',\n",
              " 'the',\n",
              " 'film',\n",
              " 'were',\n",
              " 'great',\n",
              " 'it',\n",
              " 'was',\n",
              " 'just',\n",
              " 'brilliant',\n",
              " 'so',\n",
              " 'much',\n",
              " 'that',\n",
              " 'i',\n",
              " 'bought',\n",
              " 'the',\n",
              " 'film',\n",
              " 'as',\n",
              " 'soon',\n",
              " 'as',\n",
              " 'it',\n",
              " 'was',\n",
              " 'released',\n",
              " 'for',\n",
              " 'retail',\n",
              " 'and',\n",
              " 'would',\n",
              " 'recommend',\n",
              " 'it',\n",
              " 'to',\n",
              " 'everyone',\n",
              " 'to',\n",
              " 'watch',\n",
              " 'and',\n",
              " 'the',\n",
              " 'fly',\n",
              " 'fishing',\n",
              " 'was',\n",
              " 'amazing',\n",
              " 'really',\n",
              " 'cried',\n",
              " 'at',\n",
              " 'the',\n",
              " 'end',\n",
              " 'it',\n",
              " 'was',\n",
              " 'so',\n",
              " 'sad',\n",
              " 'and',\n",
              " 'you',\n",
              " 'know',\n",
              " 'what',\n",
              " 'they',\n",
              " 'say',\n",
              " 'if',\n",
              " 'you',\n",
              " 'cry',\n",
              " 'at',\n",
              " 'a',\n",
              " 'film',\n",
              " 'it',\n",
              " 'must',\n",
              " 'have',\n",
              " 'been',\n",
              " 'good',\n",
              " 'and',\n",
              " 'this',\n",
              " 'definitely',\n",
              " 'was',\n",
              " 'also',\n",
              " 'congratulations',\n",
              " 'to',\n",
              " 'the',\n",
              " 'two',\n",
              " 'little',\n",
              " \"boy's\",\n",
              " 'that',\n",
              " 'played',\n",
              " 'the',\n",
              " \"part's\",\n",
              " 'of',\n",
              " 'norman',\n",
              " 'and',\n",
              " 'paul',\n",
              " 'they',\n",
              " 'were',\n",
              " 'just',\n",
              " 'brilliant',\n",
              " 'children',\n",
              " 'are',\n",
              " 'often',\n",
              " 'left',\n",
              " 'out',\n",
              " 'of',\n",
              " 'the',\n",
              " 'praising',\n",
              " 'list',\n",
              " 'i',\n",
              " 'think',\n",
              " 'because',\n",
              " 'the',\n",
              " 'stars',\n",
              " 'that',\n",
              " 'play',\n",
              " 'them',\n",
              " 'all',\n",
              " 'grown',\n",
              " 'up',\n",
              " 'are',\n",
              " 'such',\n",
              " 'a',\n",
              " 'big',\n",
              " 'profile',\n",
              " 'for',\n",
              " 'the',\n",
              " 'whole',\n",
              " 'film',\n",
              " 'but',\n",
              " 'these',\n",
              " 'children',\n",
              " 'are',\n",
              " 'amazing',\n",
              " 'and',\n",
              " 'should',\n",
              " 'be',\n",
              " 'praised',\n",
              " 'for',\n",
              " 'what',\n",
              " 'they',\n",
              " 'have',\n",
              " 'done',\n",
              " \"don't\",\n",
              " 'you',\n",
              " 'think',\n",
              " 'the',\n",
              " 'whole',\n",
              " 'story',\n",
              " 'was',\n",
              " 'so',\n",
              " 'lovely',\n",
              " 'because',\n",
              " 'it',\n",
              " 'was',\n",
              " 'true',\n",
              " 'and',\n",
              " 'was',\n",
              " \"someone's\",\n",
              " 'life',\n",
              " 'after',\n",
              " 'all',\n",
              " 'that',\n",
              " 'was',\n",
              " 'shared',\n",
              " 'with',\n",
              " 'us',\n",
              " 'all']"
            ]
          },
          "metadata": {
            "tags": []
          },
          "execution_count": 10
        }
      ]
    },
    {
      "cell_type": "code",
      "metadata": {
        "id": "4D-QHKfEqWfX",
        "outputId": "493df89d-348a-4036-cacf-ed56263342ab",
        "colab": {
          "base_uri": "https://localhost:8080/"
        }
      },
      "source": [
        "# Get the sentiment value\n",
        "y_train[0]"
      ],
      "execution_count": 11,
      "outputs": [
        {
          "output_type": "execute_result",
          "data": {
            "text/plain": [
              "1"
            ]
          },
          "metadata": {
            "tags": []
          },
          "execution_count": 11
        }
      ]
    },
    {
      "cell_type": "markdown",
      "metadata": {
        "id": "DzQ79fP9qWfY"
      },
      "source": [
        "---\n",
        "<a id=\"coding_tutorial_2\"></a>\n",
        "## Padding and Masking Sequence Data"
      ]
    },
    {
      "cell_type": "code",
      "metadata": {
        "id": "cV12HFjNqWfY"
      },
      "source": [
        "# Load the imdb data set\n",
        "import tensorflow.keras.datasets.imdb as imdb\n",
        "(x_train, y_train), (x_test, y_test) = imdb.load_data()"
      ],
      "execution_count": 12,
      "outputs": []
    },
    {
      "cell_type": "markdown",
      "metadata": {
        "id": "KNXSgtmQqWfa"
      },
      "source": [
        "#### Preprocess the data with padding"
      ]
    },
    {
      "cell_type": "code",
      "metadata": {
        "id": "3wV6xbpOqWfa",
        "outputId": "12e4879f-6f7c-4cad-d47c-422b2a9673ce",
        "colab": {
          "base_uri": "https://localhost:8080/"
        }
      },
      "source": [
        "# Inspect the input data shape\n",
        "x_train.shape"
      ],
      "execution_count": 13,
      "outputs": [
        {
          "output_type": "execute_result",
          "data": {
            "text/plain": [
              "(25000,)"
            ]
          },
          "metadata": {
            "tags": []
          },
          "execution_count": 13
        }
      ]
    },
    {
      "cell_type": "code",
      "metadata": {
        "id": "uvGKTwtmqWfb"
      },
      "source": [
        "# Pad the inputs to the maximum length using maxlen\n",
        "padded_x_train = tf.keras.preprocessing.sequence.pad_sequences(\n",
        "    x_train,\n",
        "    maxlen=300,\n",
        "    padding='post',\n",
        "    truncating='pre'\n",
        ")"
      ],
      "execution_count": 14,
      "outputs": []
    },
    {
      "cell_type": "code",
      "metadata": {
        "id": "0P2lVc5sqWfc",
        "outputId": "848afa4c-5455-428e-90a4-a4a6ca464264",
        "colab": {
          "base_uri": "https://localhost:8080/"
        }
      },
      "source": [
        "# Inspect the output data shape\n",
        "padded_x_train.shape"
      ],
      "execution_count": 15,
      "outputs": [
        {
          "output_type": "execute_result",
          "data": {
            "text/plain": [
              "(25000, 300)"
            ]
          },
          "metadata": {
            "tags": []
          },
          "execution_count": 15
        }
      ]
    },
    {
      "cell_type": "markdown",
      "metadata": {
        "id": "RoHjRlBYqWfe"
      },
      "source": [
        "#### Create a Masking layer"
      ]
    },
    {
      "cell_type": "code",
      "metadata": {
        "id": "HrBeBT5WqWfe"
      },
      "source": [
        "# Import numpy \n",
        "import numpy as np"
      ],
      "execution_count": 16,
      "outputs": []
    },
    {
      "cell_type": "code",
      "metadata": {
        "id": "MjMdW6U2qWff"
      },
      "source": [
        "# Masking expects to see (batch, sequence, features)\n",
        "# Create a dummy feature dimension using expand_dims\n",
        "padded_x_train = np.expand_dims(padded_x_train, -1)"
      ],
      "execution_count": 17,
      "outputs": []
    },
    {
      "cell_type": "code",
      "metadata": {
        "id": "jmJS4VpiqWfg"
      },
      "source": [
        "# Create a Masking layer \n",
        "tf_x_train = tf.convert_to_tensor(padded_x_train, dtype='float32')\n",
        "masking_layer = tf.keras.layers.Masking(mask_value=0.0)"
      ],
      "execution_count": 18,
      "outputs": []
    },
    {
      "cell_type": "code",
      "metadata": {
        "id": "T_wYTpnuqWfh"
      },
      "source": [
        "# Pass tf_x_train to it\n",
        "masked_x_train = masking_layer(tf_x_train)"
      ],
      "execution_count": 19,
      "outputs": []
    },
    {
      "cell_type": "code",
      "metadata": {
        "id": "_GNcXWUWqWfi",
        "outputId": "a4eb1f01-27b9-4162-f145-b370ad60af57",
        "colab": {
          "base_uri": "https://localhost:8080/"
        }
      },
      "source": [
        "# Look at the dataset\n",
        "tf_x_train[0]"
      ],
      "execution_count": 20,
      "outputs": [
        {
          "output_type": "execute_result",
          "data": {
            "text/plain": [
              "<tf.Tensor: shape=(300, 1), dtype=float32, numpy=\n",
              "array([[1.0000e+00],\n",
              "       [1.4000e+01],\n",
              "       [2.2000e+01],\n",
              "       [1.6000e+01],\n",
              "       [4.3000e+01],\n",
              "       [5.3000e+02],\n",
              "       [9.7300e+02],\n",
              "       [1.6220e+03],\n",
              "       [1.3850e+03],\n",
              "       [6.5000e+01],\n",
              "       [4.5800e+02],\n",
              "       [4.4680e+03],\n",
              "       [6.6000e+01],\n",
              "       [3.9410e+03],\n",
              "       [4.0000e+00],\n",
              "       [1.7300e+02],\n",
              "       [3.6000e+01],\n",
              "       [2.5600e+02],\n",
              "       [5.0000e+00],\n",
              "       [2.5000e+01],\n",
              "       [1.0000e+02],\n",
              "       [4.3000e+01],\n",
              "       [8.3800e+02],\n",
              "       [1.1200e+02],\n",
              "       [5.0000e+01],\n",
              "       [6.7000e+02],\n",
              "       [2.2665e+04],\n",
              "       [9.0000e+00],\n",
              "       [3.5000e+01],\n",
              "       [4.8000e+02],\n",
              "       [2.8400e+02],\n",
              "       [5.0000e+00],\n",
              "       [1.5000e+02],\n",
              "       [4.0000e+00],\n",
              "       [1.7200e+02],\n",
              "       [1.1200e+02],\n",
              "       [1.6700e+02],\n",
              "       [2.1631e+04],\n",
              "       [3.3600e+02],\n",
              "       [3.8500e+02],\n",
              "       [3.9000e+01],\n",
              "       [4.0000e+00],\n",
              "       [1.7200e+02],\n",
              "       [4.5360e+03],\n",
              "       [1.1110e+03],\n",
              "       [1.7000e+01],\n",
              "       [5.4600e+02],\n",
              "       [3.8000e+01],\n",
              "       [1.3000e+01],\n",
              "       [4.4700e+02],\n",
              "       [4.0000e+00],\n",
              "       [1.9200e+02],\n",
              "       [5.0000e+01],\n",
              "       [1.6000e+01],\n",
              "       [6.0000e+00],\n",
              "       [1.4700e+02],\n",
              "       [2.0250e+03],\n",
              "       [1.9000e+01],\n",
              "       [1.4000e+01],\n",
              "       [2.2000e+01],\n",
              "       [4.0000e+00],\n",
              "       [1.9200e+03],\n",
              "       [4.6130e+03],\n",
              "       [4.6900e+02],\n",
              "       [4.0000e+00],\n",
              "       [2.2000e+01],\n",
              "       [7.1000e+01],\n",
              "       [8.7000e+01],\n",
              "       [1.2000e+01],\n",
              "       [1.6000e+01],\n",
              "       [4.3000e+01],\n",
              "       [5.3000e+02],\n",
              "       [3.8000e+01],\n",
              "       [7.6000e+01],\n",
              "       [1.5000e+01],\n",
              "       [1.3000e+01],\n",
              "       [1.2470e+03],\n",
              "       [4.0000e+00],\n",
              "       [2.2000e+01],\n",
              "       [1.7000e+01],\n",
              "       [5.1500e+02],\n",
              "       [1.7000e+01],\n",
              "       [1.2000e+01],\n",
              "       [1.6000e+01],\n",
              "       [6.2600e+02],\n",
              "       [1.8000e+01],\n",
              "       [1.9193e+04],\n",
              "       [5.0000e+00],\n",
              "       [6.2000e+01],\n",
              "       [3.8600e+02],\n",
              "       [1.2000e+01],\n",
              "       [8.0000e+00],\n",
              "       [3.1600e+02],\n",
              "       [8.0000e+00],\n",
              "       [1.0600e+02],\n",
              "       [5.0000e+00],\n",
              "       [4.0000e+00],\n",
              "       [2.2230e+03],\n",
              "       [5.2440e+03],\n",
              "       [1.6000e+01],\n",
              "       [4.8000e+02],\n",
              "       [6.6000e+01],\n",
              "       [3.7850e+03],\n",
              "       [3.3000e+01],\n",
              "       [4.0000e+00],\n",
              "       [1.3000e+02],\n",
              "       [1.2000e+01],\n",
              "       [1.6000e+01],\n",
              "       [3.8000e+01],\n",
              "       [6.1900e+02],\n",
              "       [5.0000e+00],\n",
              "       [2.5000e+01],\n",
              "       [1.2400e+02],\n",
              "       [5.1000e+01],\n",
              "       [3.6000e+01],\n",
              "       [1.3500e+02],\n",
              "       [4.8000e+01],\n",
              "       [2.5000e+01],\n",
              "       [1.4150e+03],\n",
              "       [3.3000e+01],\n",
              "       [6.0000e+00],\n",
              "       [2.2000e+01],\n",
              "       [1.2000e+01],\n",
              "       [2.1500e+02],\n",
              "       [2.8000e+01],\n",
              "       [7.7000e+01],\n",
              "       [5.2000e+01],\n",
              "       [5.0000e+00],\n",
              "       [1.4000e+01],\n",
              "       [4.0700e+02],\n",
              "       [1.6000e+01],\n",
              "       [8.2000e+01],\n",
              "       [1.0311e+04],\n",
              "       [8.0000e+00],\n",
              "       [4.0000e+00],\n",
              "       [1.0700e+02],\n",
              "       [1.1700e+02],\n",
              "       [5.9520e+03],\n",
              "       [1.5000e+01],\n",
              "       [2.5600e+02],\n",
              "       [4.0000e+00],\n",
              "       [3.1050e+04],\n",
              "       [7.0000e+00],\n",
              "       [3.7660e+03],\n",
              "       [5.0000e+00],\n",
              "       [7.2300e+02],\n",
              "       [3.6000e+01],\n",
              "       [7.1000e+01],\n",
              "       [4.3000e+01],\n",
              "       [5.3000e+02],\n",
              "       [4.7600e+02],\n",
              "       [2.6000e+01],\n",
              "       [4.0000e+02],\n",
              "       [3.1700e+02],\n",
              "       [4.6000e+01],\n",
              "       [7.0000e+00],\n",
              "       [4.0000e+00],\n",
              "       [1.2118e+04],\n",
              "       [1.0290e+03],\n",
              "       [1.3000e+01],\n",
              "       [1.0400e+02],\n",
              "       [8.8000e+01],\n",
              "       [4.0000e+00],\n",
              "       [3.8100e+02],\n",
              "       [1.5000e+01],\n",
              "       [2.9700e+02],\n",
              "       [9.8000e+01],\n",
              "       [3.2000e+01],\n",
              "       [2.0710e+03],\n",
              "       [5.6000e+01],\n",
              "       [2.6000e+01],\n",
              "       [1.4100e+02],\n",
              "       [6.0000e+00],\n",
              "       [1.9400e+02],\n",
              "       [7.4860e+03],\n",
              "       [1.8000e+01],\n",
              "       [4.0000e+00],\n",
              "       [2.2600e+02],\n",
              "       [2.2000e+01],\n",
              "       [2.1000e+01],\n",
              "       [1.3400e+02],\n",
              "       [4.7600e+02],\n",
              "       [2.6000e+01],\n",
              "       [4.8000e+02],\n",
              "       [5.0000e+00],\n",
              "       [1.4400e+02],\n",
              "       [3.0000e+01],\n",
              "       [5.5350e+03],\n",
              "       [1.8000e+01],\n",
              "       [5.1000e+01],\n",
              "       [3.6000e+01],\n",
              "       [2.8000e+01],\n",
              "       [2.2400e+02],\n",
              "       [9.2000e+01],\n",
              "       [2.5000e+01],\n",
              "       [1.0400e+02],\n",
              "       [4.0000e+00],\n",
              "       [2.2600e+02],\n",
              "       [6.5000e+01],\n",
              "       [1.6000e+01],\n",
              "       [3.8000e+01],\n",
              "       [1.3340e+03],\n",
              "       [8.8000e+01],\n",
              "       [1.2000e+01],\n",
              "       [1.6000e+01],\n",
              "       [2.8300e+02],\n",
              "       [5.0000e+00],\n",
              "       [1.6000e+01],\n",
              "       [4.4720e+03],\n",
              "       [1.1300e+02],\n",
              "       [1.0300e+02],\n",
              "       [3.2000e+01],\n",
              "       [1.5000e+01],\n",
              "       [1.6000e+01],\n",
              "       [5.3450e+03],\n",
              "       [1.9000e+01],\n",
              "       [1.7800e+02],\n",
              "       [3.2000e+01],\n",
              "       [0.0000e+00],\n",
              "       [0.0000e+00],\n",
              "       [0.0000e+00],\n",
              "       [0.0000e+00],\n",
              "       [0.0000e+00],\n",
              "       [0.0000e+00],\n",
              "       [0.0000e+00],\n",
              "       [0.0000e+00],\n",
              "       [0.0000e+00],\n",
              "       [0.0000e+00],\n",
              "       [0.0000e+00],\n",
              "       [0.0000e+00],\n",
              "       [0.0000e+00],\n",
              "       [0.0000e+00],\n",
              "       [0.0000e+00],\n",
              "       [0.0000e+00],\n",
              "       [0.0000e+00],\n",
              "       [0.0000e+00],\n",
              "       [0.0000e+00],\n",
              "       [0.0000e+00],\n",
              "       [0.0000e+00],\n",
              "       [0.0000e+00],\n",
              "       [0.0000e+00],\n",
              "       [0.0000e+00],\n",
              "       [0.0000e+00],\n",
              "       [0.0000e+00],\n",
              "       [0.0000e+00],\n",
              "       [0.0000e+00],\n",
              "       [0.0000e+00],\n",
              "       [0.0000e+00],\n",
              "       [0.0000e+00],\n",
              "       [0.0000e+00],\n",
              "       [0.0000e+00],\n",
              "       [0.0000e+00],\n",
              "       [0.0000e+00],\n",
              "       [0.0000e+00],\n",
              "       [0.0000e+00],\n",
              "       [0.0000e+00],\n",
              "       [0.0000e+00],\n",
              "       [0.0000e+00],\n",
              "       [0.0000e+00],\n",
              "       [0.0000e+00],\n",
              "       [0.0000e+00],\n",
              "       [0.0000e+00],\n",
              "       [0.0000e+00],\n",
              "       [0.0000e+00],\n",
              "       [0.0000e+00],\n",
              "       [0.0000e+00],\n",
              "       [0.0000e+00],\n",
              "       [0.0000e+00],\n",
              "       [0.0000e+00],\n",
              "       [0.0000e+00],\n",
              "       [0.0000e+00],\n",
              "       [0.0000e+00],\n",
              "       [0.0000e+00],\n",
              "       [0.0000e+00],\n",
              "       [0.0000e+00],\n",
              "       [0.0000e+00],\n",
              "       [0.0000e+00],\n",
              "       [0.0000e+00],\n",
              "       [0.0000e+00],\n",
              "       [0.0000e+00],\n",
              "       [0.0000e+00],\n",
              "       [0.0000e+00],\n",
              "       [0.0000e+00],\n",
              "       [0.0000e+00],\n",
              "       [0.0000e+00],\n",
              "       [0.0000e+00],\n",
              "       [0.0000e+00],\n",
              "       [0.0000e+00],\n",
              "       [0.0000e+00],\n",
              "       [0.0000e+00],\n",
              "       [0.0000e+00],\n",
              "       [0.0000e+00],\n",
              "       [0.0000e+00],\n",
              "       [0.0000e+00],\n",
              "       [0.0000e+00],\n",
              "       [0.0000e+00],\n",
              "       [0.0000e+00],\n",
              "       [0.0000e+00],\n",
              "       [0.0000e+00],\n",
              "       [0.0000e+00]], dtype=float32)>"
            ]
          },
          "metadata": {
            "tags": []
          },
          "execution_count": 20
        }
      ]
    },
    {
      "cell_type": "code",
      "metadata": {
        "id": "3yQh6FnqqWfj",
        "outputId": "a2a145c3-8c1f-4341-ba0f-0aa24a08f9e6",
        "colab": {
          "base_uri": "https://localhost:8080/"
        }
      },
      "source": [
        "# Look at the ._keras_mask for the dataset\n",
        "masked_x_train._keras_mask"
      ],
      "execution_count": 21,
      "outputs": [
        {
          "output_type": "execute_result",
          "data": {
            "text/plain": [
              "<tf.Tensor: shape=(25000, 300), dtype=bool, numpy=\n",
              "array([[ True,  True,  True, ..., False, False, False],\n",
              "       [ True,  True,  True, ..., False, False, False],\n",
              "       [ True,  True,  True, ..., False, False, False],\n",
              "       ...,\n",
              "       [ True,  True,  True, ..., False, False, False],\n",
              "       [ True,  True,  True, ..., False, False, False],\n",
              "       [ True,  True,  True, ..., False, False, False]])>"
            ]
          },
          "metadata": {
            "tags": []
          },
          "execution_count": 21
        }
      ]
    },
    {
      "cell_type": "markdown",
      "metadata": {
        "id": "9JaB7hb0qWfk"
      },
      "source": [
        "***\n",
        "<a id=\"coding_tutorial_3\"></a>\n",
        "## The Embedding layer"
      ]
    },
    {
      "cell_type": "markdown",
      "metadata": {
        "id": "oHF-itFjqWfk"
      },
      "source": [
        "#### Create and apply an `Embedding` layer"
      ]
    },
    {
      "cell_type": "code",
      "metadata": {
        "id": "DQ91_6M7qWfl"
      },
      "source": [
        "# Create an embedding layer using layers.Embedding\n",
        "# Specify input_dim, output_dim, input_length\n",
        "embedding_layer = tf.keras.layers.Embedding(input_dim=501, output_dim=16)"
      ],
      "execution_count": 22,
      "outputs": []
    },
    {
      "cell_type": "code",
      "metadata": {
        "id": "idZh9iuxqWfm",
        "outputId": "8231f9fd-4bfa-4aab-e60d-85092c435529",
        "colab": {
          "base_uri": "https://localhost:8080/"
        }
      },
      "source": [
        "# Inspect an Embedding layer output for a fixed input\n",
        "# Expects an input of shape (batch, sequence, feature)\n",
        "sequence_of_indices = tf.constant([[0], [1], [5], [500]])\n",
        "sequence_of_embeddings = embedding_layer(sequence_of_indices)\n",
        "sequence_of_embeddings"
      ],
      "execution_count": 23,
      "outputs": [
        {
          "output_type": "execute_result",
          "data": {
            "text/plain": [
              "<tf.Tensor: shape=(4, 1, 16), dtype=float32, numpy=\n",
              "array([[[-0.03384013,  0.01961266, -0.00407616, -0.02676683,\n",
              "         -0.04171107,  0.04573691, -0.03128108,  0.03045709,\n",
              "          0.02093724,  0.01168049, -0.04953232,  0.01955343,\n",
              "          0.01749145,  0.02610284,  0.01122564, -0.01842086]],\n",
              "\n",
              "       [[-0.00837994, -0.04076691, -0.01800364,  0.02976372,\n",
              "          0.02743229,  0.01433057, -0.04841885, -0.00104464,\n",
              "         -0.00130754,  0.0265285 , -0.04371301, -0.02958431,\n",
              "         -0.01076815,  0.02824445,  0.01549076,  0.04865367]],\n",
              "\n",
              "       [[ 0.00732013,  0.00233767, -0.02226815, -0.00071578,\n",
              "          0.03110348,  0.01098676,  0.03848842, -0.03042487,\n",
              "          0.00692971, -0.03156032, -0.01555482, -0.00908362,\n",
              "          0.0221822 ,  0.02040989, -0.0255141 ,  0.00458048]],\n",
              "\n",
              "       [[ 0.04834571, -0.00355041,  0.02562382, -0.02553598,\n",
              "         -0.01803446,  0.03568751,  0.042681  ,  0.01489751,\n",
              "          0.03384409,  0.03119042,  0.03374496,  0.04954587,\n",
              "          0.00524569,  0.02360071, -0.04014398,  0.02150302]]],\n",
              "      dtype=float32)>"
            ]
          },
          "metadata": {
            "tags": []
          },
          "execution_count": 23
        }
      ]
    },
    {
      "cell_type": "code",
      "metadata": {
        "id": "g8KuAIucqWfn",
        "outputId": "b4c5cfaa-9a3d-4b40-86e9-df9535beafcb",
        "colab": {
          "base_uri": "https://localhost:8080/"
        }
      },
      "source": [
        "# Inspect the Embedding layer weights using get_weights()\n",
        "embedding_layer.get_weights()[0]"
      ],
      "execution_count": 24,
      "outputs": [
        {
          "output_type": "execute_result",
          "data": {
            "text/plain": [
              "array([[-0.03384013,  0.01961266, -0.00407616, ...,  0.02610284,\n",
              "         0.01122564, -0.01842086],\n",
              "       [-0.00837994, -0.04076691, -0.01800364, ...,  0.02824445,\n",
              "         0.01549076,  0.04865367],\n",
              "       [-0.04674384,  0.03472451,  0.0479547 , ..., -0.04873643,\n",
              "         0.02285046, -0.04293288],\n",
              "       ...,\n",
              "       [-0.02790815, -0.00367014,  0.00133723, ..., -0.03981848,\n",
              "        -0.03666147, -0.01545569],\n",
              "       [ 0.04025768,  0.02141223,  0.0192467 , ...,  0.02257197,\n",
              "        -0.04311323,  0.03380258],\n",
              "       [ 0.04834571, -0.00355041,  0.02562382, ...,  0.02360071,\n",
              "        -0.04014398,  0.02150302]], dtype=float32)"
            ]
          },
          "metadata": {
            "tags": []
          },
          "execution_count": 24
        }
      ]
    },
    {
      "cell_type": "code",
      "metadata": {
        "id": "EeMUkQjlqWfo",
        "outputId": "7ce0465e-d933-43bf-fe6e-46287d82191e",
        "colab": {
          "base_uri": "https://localhost:8080/"
        }
      },
      "source": [
        "# Get the embedding for the 14th index\n",
        "embedding_layer.get_weights()[0][14,:]"
      ],
      "execution_count": 25,
      "outputs": [
        {
          "output_type": "execute_result",
          "data": {
            "text/plain": [
              "array([-0.04363369,  0.04605534,  0.04025488, -0.03316386, -0.00512024,\n",
              "       -0.01290286,  0.02062912, -0.00940493, -0.04129497, -0.01632399,\n",
              "        0.0361782 ,  0.03810607, -0.0487758 , -0.04995751,  0.01746707,\n",
              "        0.02793877], dtype=float32)"
            ]
          },
          "metadata": {
            "tags": []
          },
          "execution_count": 25
        }
      ]
    },
    {
      "cell_type": "markdown",
      "metadata": {
        "id": "Jsy4x5lEqWfp"
      },
      "source": [
        "#### Create and apply an `Embedding` layer that uses `mask_zero=True`"
      ]
    },
    {
      "cell_type": "code",
      "metadata": {
        "id": "lTmfOdXxqWfp"
      },
      "source": [
        "# Create a layer that uses the mask_zero kwarg\n",
        "masking_embedding_layer = tf.keras.layers.Embedding(input_dim=501, output_dim=16, mask_zero=True)"
      ],
      "execution_count": 26,
      "outputs": []
    },
    {
      "cell_type": "code",
      "metadata": {
        "id": "hoggB66AqWfq",
        "outputId": "d20fdf35-bf07-4689-c20f-35ade8fa2acb",
        "colab": {
          "base_uri": "https://localhost:8080/"
        }
      },
      "source": [
        "# Apply this layer to the sequence and see the _keras_mask property\n",
        "masked_sequence_of_embeddings = masking_embedding_layer(sequence_of_indices)\n",
        "masked_sequence_of_embeddings._keras_mask"
      ],
      "execution_count": 27,
      "outputs": [
        {
          "output_type": "execute_result",
          "data": {
            "text/plain": [
              "<tf.Tensor: shape=(4, 1), dtype=bool, numpy=\n",
              "array([[False],\n",
              "       [ True],\n",
              "       [ True],\n",
              "       [ True]])>"
            ]
          },
          "metadata": {
            "tags": []
          },
          "execution_count": 27
        }
      ]
    },
    {
      "cell_type": "markdown",
      "metadata": {
        "id": "5oYtJa7WqWfr"
      },
      "source": [
        "---\n",
        "<a id=\"coding_tutorial_4\"></a>\n",
        "## The Embedding Projector"
      ]
    },
    {
      "cell_type": "markdown",
      "metadata": {
        "id": "Grv2obWnqWfr"
      },
      "source": [
        "#### Load and preprocess the IMDb data"
      ]
    },
    {
      "cell_type": "code",
      "metadata": {
        "id": "grM2xUEdqWfr"
      },
      "source": [
        "# A function to load and preprocess the IMDB dataset\n",
        "\n",
        "def get_and_pad_imdb_dataset(num_words=10000, maxlen=None, index_from=2):\n",
        "    from tensorflow.keras.datasets import imdb\n",
        "\n",
        "    # Load the reviews\n",
        "    (x_train, y_train), (x_test, y_test) = imdb.load_data(path='imdb.npz',\n",
        "                                                          num_words=num_words,\n",
        "                                                          skip_top=0,\n",
        "                                                          maxlen=maxlen,\n",
        "                                                          start_char=1,\n",
        "                                                          oov_char=2,\n",
        "                                                          index_from=index_from)\n",
        "\n",
        "    x_train = tf.keras.preprocessing.sequence.pad_sequences(x_train,\n",
        "                                                        maxlen=None,\n",
        "                                                        padding='pre',\n",
        "                                                        truncating='pre',\n",
        "                                                        value=0)\n",
        "    \n",
        "    x_test = tf.keras.preprocessing.sequence.pad_sequences(x_test,\n",
        "                                                           maxlen=None,\n",
        "                                                           padding='pre',\n",
        "                                                           truncating='pre',\n",
        "                                                           value=0)\n",
        "    return (x_train, y_train), (x_test, y_test)"
      ],
      "execution_count": 28,
      "outputs": []
    },
    {
      "cell_type": "code",
      "metadata": {
        "id": "Pb7IvamwqWfs"
      },
      "source": [
        "# Load the dataset\n",
        "(x_train, y_train), (x_test, y_test) = get_and_pad_imdb_dataset()"
      ],
      "execution_count": 29,
      "outputs": []
    },
    {
      "cell_type": "code",
      "metadata": {
        "id": "Op1sPF-TqWft"
      },
      "source": [
        "# A function to get the dataset word index\n",
        "def get_imdb_word_index(num_words=10000, index_from=2):\n",
        "    imdb_word_index = tf.keras.datasets.imdb.get_word_index(\n",
        "                                        path='imdb_word_index.json')\n",
        "    imdb_word_index = {key: value + index_from for\n",
        "                       key, value in imdb_word_index.items() if value <= num_words-index_from}\n",
        "    return imdb_word_index"
      ],
      "execution_count": 30,
      "outputs": []
    },
    {
      "cell_type": "code",
      "metadata": {
        "id": "AZAm89dcqWfu"
      },
      "source": [
        "# Get the word index\n",
        "imdb_word_index = get_imdb_word_index()"
      ],
      "execution_count": 31,
      "outputs": []
    },
    {
      "cell_type": "code",
      "metadata": {
        "id": "07gSvsuHqWfu"
      },
      "source": [
        "# Swap the keys and values of the word index\n",
        "inv_imdb_word_index = {value:key for key, value in imbd_word_index.items()}"
      ],
      "execution_count": 32,
      "outputs": []
    },
    {
      "cell_type": "code",
      "metadata": {
        "id": "HCgiUEFWqWfv",
        "outputId": "b82838dc-ce62-44c1-aae5-0ef1924d3ab6",
        "colab": {
          "base_uri": "https://localhost:8080/"
        }
      },
      "source": [
        "# View the first dataset example sentence\n",
        "[inv_imdb_word_index[index] for index in x_train[100] if index > 3]"
      ],
      "execution_count": 35,
      "outputs": [
        {
          "output_type": "execute_result",
          "data": {
            "text/plain": [
              "['it',\n",
              " 'kind',\n",
              " 'and',\n",
              " 'first',\n",
              " 'father',\n",
              " 'a',\n",
              " 'cinematography',\n",
              " 'chosen',\n",
              " 'the',\n",
              " 'his',\n",
              " 'actor',\n",
              " 'this',\n",
              " 'performance',\n",
              " \"don't\",\n",
              " 'film',\n",
              " 'shows',\n",
              " 'fight',\n",
              " 'as',\n",
              " 'falling',\n",
              " 'episodes',\n",
              " \"he's\",\n",
              " 'themselves',\n",
              " 'heston',\n",
              " 'kidnaps',\n",
              " 'with',\n",
              " 'who',\n",
              " 'more',\n",
              " 'it',\n",
              " 'each',\n",
              " \"it's\",\n",
              " 'just',\n",
              " 'i',\n",
              " 'it',\n",
              " 'jim',\n",
              " 'festivals',\n",
              " 'in',\n",
              " 'the',\n",
              " 'the',\n",
              " 'there',\n",
              " 'to',\n",
              " 'i',\n",
              " 'about',\n",
              " 'and',\n",
              " 'lady',\n",
              " 'a',\n",
              " 'channel',\n",
              " 'nice',\n",
              " 'the',\n",
              " 'absolutely',\n",
              " 'related',\n",
              " 'this',\n",
              " 'you',\n",
              " 'thinks',\n",
              " 'the',\n",
              " 'explosion',\n",
              " 'hayworth',\n",
              " 'the',\n",
              " 'skills',\n",
              " 'money',\n",
              " 'it',\n",
              " 'most',\n",
              " 'show',\n",
              " 'editing',\n",
              " 'what',\n",
              " 'movie',\n",
              " 'money',\n",
              " 'i',\n",
              " 'to',\n",
              " 'or',\n",
              " 'and',\n",
              " 'lady',\n",
              " 'a',\n",
              " 'wonder',\n",
              " 'this',\n",
              " 'that',\n",
              " 'film',\n",
              " 'hold',\n",
              " 'despite',\n",
              " 'early',\n",
              " 'a',\n",
              " 'cinematography',\n",
              " 'chosen',\n",
              " 'of',\n",
              " 'way',\n",
              " 'and',\n",
              " 'going',\n",
              " 'pleasantly',\n",
              " 'them',\n",
              " 'recommend',\n",
              " 'were',\n",
              " 'way',\n",
              " 'in',\n",
              " 'tale',\n",
              " 'this',\n",
              " 'it',\n",
              " 'another',\n",
              " 'direction',\n",
              " 'just',\n",
              " 'explosion',\n",
              " 'bored',\n",
              " 'same',\n",
              " 'movie',\n",
              " 'their',\n",
              " 'of',\n",
              " 'often',\n",
              " 'amazing',\n",
              " 'great',\n",
              " 'even',\n",
              " 'basketball',\n",
              " 'since',\n",
              " 'his',\n",
              " 'one',\n",
              " 'br',\n",
              " 'one',\n",
              " 'i',\n",
              " 'to',\n",
              " 'and',\n",
              " 'voice',\n",
              " 'g',\n",
              " 'herself',\n",
              " 'the',\n",
              " 'give',\n",
              " 'me',\n",
              " 'his',\n",
              " 'or',\n",
              " 'much',\n",
              " 'everyone',\n",
              " 'br',\n",
              " 'worked',\n",
              " 'trying',\n",
              " 'was',\n",
              " 'and',\n",
              " 'consequences',\n",
              " 'it',\n",
              " 'voice',\n",
              " 'came',\n",
              " 'not',\n",
              " 'most',\n",
              " 'common',\n",
              " 'better',\n",
              " 'ending',\n",
              " 'film',\n",
              " 'i',\n",
              " \"he's\",\n",
              " \"it's\",\n",
              " 'a',\n",
              " 'work']"
            ]
          },
          "metadata": {
            "tags": []
          },
          "execution_count": 35
        }
      ]
    },
    {
      "cell_type": "markdown",
      "metadata": {
        "id": "FAJdwWUNqWfw"
      },
      "source": [
        "#### Build an Embedding layer into a model"
      ]
    },
    {
      "cell_type": "code",
      "metadata": {
        "id": "BhqwvkX7qWfx"
      },
      "source": [
        "# Get the maximum token value\n",
        "max_index_value = max(imbd_word_index.values())"
      ],
      "execution_count": 36,
      "outputs": []
    },
    {
      "cell_type": "code",
      "metadata": {
        "id": "NOQG9XJFqWfx"
      },
      "source": [
        "# Specify an embedding dimension\n",
        "embedding_dim = 16"
      ],
      "execution_count": 37,
      "outputs": []
    },
    {
      "cell_type": "code",
      "metadata": {
        "id": "PNp4DfMqqWfy"
      },
      "source": [
        "# Build a model using Sequential:\n",
        "#     1. Embedding layer\n",
        "#     2. GlobalAveragePooling1D\n",
        "#     3. Dense\n",
        "\n",
        "model = tf.keras.Sequential([\n",
        "    tf.keras.layers.Embedding(input_dim=max_index_value+1, output_dim=embedding_dim, mask_zero=False),\n",
        "    tf.keras.layers.GlobalAveragePooling1D(),\n",
        "    tf.keras.layers.Dense(units=1, activation='sigmoid')\n",
        "])"
      ],
      "execution_count": 38,
      "outputs": []
    },
    {
      "cell_type": "code",
      "metadata": {
        "id": "MXCeS4M4qWfz"
      },
      "source": [
        "# Functional API refresher: use the Model to build the same model\n",
        "review_sequence = tf.keras.Input((None, ))\n",
        "embedding_sequece = tf.keras.layers.Embedding(input_dim=max_index_value+1, output_dim=embedding_dim)(review_sequence)\n",
        "average_embedding = tf.keras.layers.GlobalAveragePooling1D()(embedding_sequece)\n",
        "positive_probability = tf.keras.layers.Dense(units=1, activation='sigmoid')(average_embedding)\n",
        "\n",
        "model = tf.keras.Model(inputs=review_sequence, outputs=positive_probability)"
      ],
      "execution_count": 39,
      "outputs": []
    },
    {
      "cell_type": "code",
      "metadata": {
        "id": "FLiipSGpqWf0",
        "outputId": "829f5ed4-5eb2-4616-dd12-2c49e36c7381",
        "colab": {
          "base_uri": "https://localhost:8080/"
        }
      },
      "source": [
        "model.summary()"
      ],
      "execution_count": 40,
      "outputs": [
        {
          "output_type": "stream",
          "text": [
            "Model: \"functional_1\"\n",
            "_________________________________________________________________\n",
            "Layer (type)                 Output Shape              Param #   \n",
            "=================================================================\n",
            "input_1 (InputLayer)         [(None, None)]            0         \n",
            "_________________________________________________________________\n",
            "embedding_3 (Embedding)      (None, None, 16)          1417408   \n",
            "_________________________________________________________________\n",
            "global_average_pooling1d_1 ( (None, 16)                0         \n",
            "_________________________________________________________________\n",
            "dense_1 (Dense)              (None, 1)                 17        \n",
            "=================================================================\n",
            "Total params: 1,417,425\n",
            "Trainable params: 1,417,425\n",
            "Non-trainable params: 0\n",
            "_________________________________________________________________\n"
          ],
          "name": "stdout"
        }
      ]
    },
    {
      "cell_type": "markdown",
      "metadata": {
        "id": "GnoT2kXpqWf0"
      },
      "source": [
        "#### Compile, train, and evaluate the model"
      ]
    },
    {
      "cell_type": "code",
      "metadata": {
        "id": "yJ2vblswqWf1"
      },
      "source": [
        "# Compile the model with a binary cross-entropy loss\n",
        "model.compile(loss='binary_crossentropy', metrics=['accuracy'], optimizer='adam')"
      ],
      "execution_count": 41,
      "outputs": []
    },
    {
      "cell_type": "code",
      "metadata": {
        "id": "RvP15uRRqWf1",
        "outputId": "6dc7db93-f68b-46fa-9e62-a4f1873706e9",
        "colab": {
          "base_uri": "https://localhost:8080/"
        }
      },
      "source": [
        "# Train the model using .fit(), savng its history\n",
        "history = model.fit(x_train, y_train, epochs=5, batch_size=32, validation_data=(x_test, y_test), validation_steps=20)"
      ],
      "execution_count": 42,
      "outputs": [
        {
          "output_type": "stream",
          "text": [
            "Epoch 1/5\n",
            "782/782 [==============================] - 15s 19ms/step - loss: 0.6902 - accuracy: 0.5781 - val_loss: 0.6841 - val_accuracy: 0.7266\n",
            "Epoch 2/5\n",
            "782/782 [==============================] - 15s 19ms/step - loss: 0.6713 - accuracy: 0.6938 - val_loss: 0.6538 - val_accuracy: 0.7063\n",
            "Epoch 3/5\n",
            "782/782 [==============================] - 15s 19ms/step - loss: 0.6301 - accuracy: 0.7485 - val_loss: 0.6036 - val_accuracy: 0.7609\n",
            "Epoch 4/5\n",
            "782/782 [==============================] - 15s 19ms/step - loss: 0.5795 - accuracy: 0.7892 - val_loss: 0.5549 - val_accuracy: 0.7859\n",
            "Epoch 5/5\n",
            "782/782 [==============================] - 15s 19ms/step - loss: 0.5309 - accuracy: 0.8149 - val_loss: 0.5116 - val_accuracy: 0.7969\n"
          ],
          "name": "stdout"
        }
      ]
    },
    {
      "cell_type": "code",
      "metadata": {
        "id": "PcHSrZTwqWf2",
        "outputId": "9134144e-8314-42c2-df6e-e0d2bca32be8",
        "colab": {
          "base_uri": "https://localhost:8080/",
          "height": 354
        }
      },
      "source": [
        "# Plot the training and validation accuracy\n",
        "import matplotlib.pyplot as plt\n",
        "%matplotlib inline\n",
        "plt.style.use('ggplot')\n",
        "\n",
        "history_dict = history.history\n",
        "\n",
        "acc      = history_dict['accuracy']\n",
        "val_acc  = history_dict['val_accuracy']\n",
        "loss     = history_dict['loss']\n",
        "val_loss = history_dict['val_loss']\n",
        "\n",
        "epochs = range(1, len(acc) + 1)\n",
        "\n",
        "plt.figure(figsize=(14,5))\n",
        "plt.plot(epochs, acc, marker='.', label='Training acc')\n",
        "plt.plot(epochs, val_acc, marker='.', label='Validation acc')\n",
        "plt.title('Training and validation accuracy')\n",
        "plt.xlabel('Epoch')\n",
        "plt.ylabel('Classification accuracy')\n",
        "plt.legend(loc='lower right')\n",
        "plt.ylim(0, 1);"
      ],
      "execution_count": 44,
      "outputs": [
        {
          "output_type": "display_data",
          "data": {
            "image/png": "[encoded data removed]",
            "text/plain": [
              "<Figure size 1008x360 with 1 Axes>"
            ]
          },
          "metadata": {
            "tags": []
          }
        }
      ]
    },
    {
      "cell_type": "markdown",
      "metadata": {
        "id": "fWaE1MJvqWf3"
      },
      "source": [
        "#### The TensorFlow embedding projector\n",
        "\n",
        "The Tensorflow embedding projector can be found [here](https://projector.tensorflow.org/)."
      ]
    },
    {
      "cell_type": "code",
      "metadata": {
        "id": "IyDaxyTjqWf3"
      },
      "source": [
        "# Retrieve the embedding layer's weights from the trained model\n",
        "weights = model.layers[1].get_weights()[0]"
      ],
      "execution_count": 45,
      "outputs": []
    },
    {
      "cell_type": "code",
      "metadata": {
        "id": "nrkRzquXqWf4"
      },
      "source": [
        "# Save the word Embeddings to tsv files\n",
        "# Two files: \n",
        "#     one contains the embedding labels (meta.tsv),\n",
        "#     one contains the embeddings (vecs.tsv)\n",
        "\n",
        "import io\n",
        "from os import path\n",
        "\n",
        "out_v = io.open(path.join('data', 'vecs.tsv'), 'w', encoding='utf-8')\n",
        "out_m = io.open(path.join('data', 'meta.tsv'), 'w', encoding='utf-8')\n",
        "\n",
        "k = 0\n",
        "\n",
        "for word, token in word_index.items():\n",
        "    if k != 0:\n",
        "        out_m.write('\\n')\n",
        "        out_v.write('\\n')\n",
        "    \n",
        "    out_v.write('\\t'.join([str(x) for x in weights[token]]))\n",
        "    out_m.write(word)\n",
        "    k += 1\n",
        "    \n",
        "out_v.close()\n",
        "out_m.close()\n",
        "# beware large collections of embeddings!"
      ],
      "execution_count": null,
      "outputs": []
    },
    {
      "cell_type": "markdown",
      "metadata": {
        "id": "HhfVte9zqWf5"
      },
      "source": [
        "---\n",
        "<a id=\"coding_tutorial_5\"></a>\n",
        "## Recurrent neural network layers"
      ]
    },
    {
      "cell_type": "markdown",
      "metadata": {
        "id": "SL3fZuObqWf5"
      },
      "source": [
        "#### Initialize and pass an input to a SimpleRNN layer"
      ]
    },
    {
      "cell_type": "code",
      "metadata": {
        "id": "4HrUpt0zqWf5"
      },
      "source": [
        "# Create a SimpleRNN layer and test it\n",
        "simplernn_layer = tf.keras.layers.SimpleRNN(units=16)"
      ],
      "execution_count": 47,
      "outputs": []
    },
    {
      "cell_type": "code",
      "metadata": {
        "id": "gsr8DM-JqWf6",
        "outputId": "a2ff4121-8066-4509-baf2-094631a59e88",
        "colab": {
          "base_uri": "https://localhost:8080/"
        }
      },
      "source": [
        "# Note that only the final cell output is returned\n",
        "\n",
        "sequence = tf.constant([[[1.0, 1.0], [2., 2.], [56., -100.]]])\n",
        "layer_output = simplernn_layer(sequence)\n",
        "layer_output"
      ],
      "execution_count": 48,
      "outputs": [
        {
          "output_type": "execute_result",
          "data": {
            "text/plain": [
              "<tf.Tensor: shape=(1, 16), dtype=float32, numpy=\n",
              "array([[-0.99217606, -0.99998635, -1.        ,  1.        , -1.        ,\n",
              "        -0.99994177, -1.        , -0.99999887, -1.        , -1.        ,\n",
              "         1.        , -1.        , -1.        ,  0.99999964, -1.        ,\n",
              "        -1.        ]], dtype=float32)>"
            ]
          },
          "metadata": {
            "tags": []
          },
          "execution_count": 48
        }
      ]
    },
    {
      "cell_type": "markdown",
      "metadata": {
        "id": "mmhSUMNjqWf7"
      },
      "source": [
        "#### Load and transform the IMDB review sentiment dataset"
      ]
    },
    {
      "cell_type": "code",
      "metadata": {
        "id": "8CQX_YgDqWf7"
      },
      "source": [
        "# A function to load and preprocess the IMDB dataset\n",
        "\n",
        "def get_and_pad_imdb_dataset(num_words=10000, maxlen=None, index_from=2):\n",
        "    from tensorflow.keras.datasets import imdb\n",
        "\n",
        "    # Load the reviews\n",
        "    (x_train, y_train), (x_test, y_test) = imdb.load_data(path='imdb.npz',\n",
        "                                                          num_words=num_words,\n",
        "                                                          skip_top=0,\n",
        "                                                          maxlen=maxlen,\n",
        "                                                          start_char=1,\n",
        "                                                          oov_char=2,\n",
        "                                                          index_from=index_from)\n",
        "\n",
        "    x_train = tf.keras.preprocessing.sequence.pad_sequences(x_train,\n",
        "                                                        maxlen=None,\n",
        "                                                        padding='pre',\n",
        "                                                        truncating='pre',\n",
        "                                                        value=0)\n",
        "    \n",
        "    x_test = tf.keras.preprocessing.sequence.pad_sequences(x_test,\n",
        "                                                           maxlen=None,\n",
        "                                                           padding='pre',\n",
        "                                                           truncating='pre',\n",
        "                                                           value=0)\n",
        "    return (x_train, y_train), (x_test, y_test)"
      ],
      "execution_count": 49,
      "outputs": []
    },
    {
      "cell_type": "code",
      "metadata": {
        "id": "BS6QrJC2qWf8"
      },
      "source": [
        "# Load the dataset\n",
        "(x_train, y_train), (x_test, y_test) = get_and_pad_imdb_dataset(maxlen=250)"
      ],
      "execution_count": 50,
      "outputs": []
    },
    {
      "cell_type": "code",
      "metadata": {
        "id": "36lSv_iGqWf8"
      },
      "source": [
        "# A function to get the dataset word index\n",
        "def get_imdb_word_index(num_words=10000, index_from=2):\n",
        "    imdb_word_index = tf.keras.datasets.imdb.get_word_index(\n",
        "                                        path='imdb_word_index.json')\n",
        "    imdb_word_index = {key: value + index_from for\n",
        "                       key, value in imdb_word_index.items() if value <= num_words-index_from}\n",
        "    return imdb_word_index"
      ],
      "execution_count": 51,
      "outputs": []
    },
    {
      "cell_type": "code",
      "metadata": {
        "id": "cw5DEav3qWf9"
      },
      "source": [
        "# Get the word index using get_imdb_word_index()\n",
        "imbd_word_index = get_imdb_word_index()"
      ],
      "execution_count": 52,
      "outputs": []
    },
    {
      "cell_type": "markdown",
      "metadata": {
        "id": "fs5TORKCqWf-"
      },
      "source": [
        "#### Create a recurrent neural network model"
      ]
    },
    {
      "cell_type": "code",
      "metadata": {
        "id": "wvQnu45vqWf-"
      },
      "source": [
        "# Get the maximum index value\n",
        "max_index_value = max(imdb_word_index.values())"
      ],
      "execution_count": 53,
      "outputs": []
    },
    {
      "cell_type": "code",
      "metadata": {
        "id": "AcXX6EGGqWf_"
      },
      "source": [
        "# Using Sequential, build the model:\n",
        "# 1. Embedding.\n",
        "# 2. LSTM.\n",
        "# 3. Dense.\n",
        "\n",
        "model = tf.keras.Sequential([\n",
        "    tf.keras.layers.Embedding(input_dim=max_index_value+1, output_dim=embedding_dim, mask_zero=True),\n",
        "    tf.keras.layers.LSTM(units=16),\n",
        "    tf.keras.layers.Dense(units=1, activation='sigmoid')\n",
        "])"
      ],
      "execution_count": 54,
      "outputs": []
    },
    {
      "cell_type": "markdown",
      "metadata": {
        "id": "2tnX1ltHqWf_"
      },
      "source": [
        "#### Compile and fit the model"
      ]
    },
    {
      "cell_type": "code",
      "metadata": {
        "id": "N6X3oCUvqWf_"
      },
      "source": [
        "# Compile the model with binary cross-entropy loss\n",
        "model.compile(loss='binary_crossentropy', metrics=['accuracy'], optimizer='adam')"
      ],
      "execution_count": 55,
      "outputs": []
    },
    {
      "cell_type": "code",
      "metadata": {
        "id": "sQZ9rySzqWgA",
        "outputId": "63af10af-cdfe-4bf5-8645-94556d24326d",
        "colab": {
          "base_uri": "https://localhost:8080/"
        }
      },
      "source": [
        "# Fit the model and save its training history\n",
        "model.fit(x_train, y_train, epochs=3, batch_size=3)"
      ],
      "execution_count": 56,
      "outputs": [
        {
          "output_type": "stream",
          "text": [
            "Epoch 1/3\n",
            "5707/5707 [==============================] - 374s 66ms/step - loss: 0.4668 - accuracy: 0.7851\n",
            "Epoch 2/3\n",
            "5707/5707 [==============================] - 381s 67ms/step - loss: 0.3105 - accuracy: 0.8764\n",
            "Epoch 3/3\n",
            "5707/5707 [==============================] - 369s 65ms/step - loss: 0.2129 - accuracy: 0.9190\n"
          ],
          "name": "stdout"
        },
        {
          "output_type": "execute_result",
          "data": {
            "text/plain": [
              "<tensorflow.python.keras.callbacks.History at 0x7fa958fee0b8>"
            ]
          },
          "metadata": {
            "tags": []
          },
          "execution_count": 56
        }
      ]
    },
    {
      "cell_type": "markdown",
      "metadata": {
        "id": "dIQNfjZaqWgB"
      },
      "source": [
        "#### Plot learning curves"
      ]
    },
    {
      "cell_type": "code",
      "metadata": {
        "id": "xFXnIDavqWgB",
        "outputId": "b54fcdc1-91f2-4685-f19a-2a008ba2a1ec",
        "colab": {
          "base_uri": "https://localhost:8080/",
          "height": 354
        }
      },
      "source": [
        "# Plot the training and validation accuracy\n",
        "import matplotlib.pyplot as plt\n",
        "%matplotlib inline\n",
        "plt.style.use('ggplot')\n",
        "\n",
        "history_dict = history.history\n",
        "\n",
        "acc      = history_dict['accuracy']\n",
        "val_acc  = history_dict['val_accuracy']\n",
        "loss     = history_dict['loss']\n",
        "val_loss = history_dict['val_loss']\n",
        "\n",
        "epochs = range(1, len(acc) + 1)\n",
        "\n",
        "plt.figure(figsize=(14,5))\n",
        "plt.plot(epochs, acc, marker='.', label='Training acc')\n",
        "plt.plot(epochs, val_acc, marker='.', label='Validation acc')\n",
        "plt.title('Training and validation accuracy')\n",
        "plt.xlabel('Epoch')\n",
        "plt.ylabel('Classification accuracy')\n",
        "plt.legend(loc='lower right')\n",
        "plt.ylim(0, 1);"
      ],
      "execution_count": 57,
      "outputs": [
        {
          "output_type": "display_data",
          "data": {
            "image/png": "[encoded data removed]",
            "text/plain": [
              "<Figure size 1008x360 with 1 Axes>"
            ]
          },
          "metadata": {
            "tags": []
          }
        }
      ]
    },
    {
      "cell_type": "markdown",
      "metadata": {
        "id": "msUqAhfpqWgC"
      },
      "source": [
        "#### Make predictions with the model"
      ]
    },
    {
      "cell_type": "code",
      "metadata": {
        "id": "UBq-SwdIqWgC",
        "outputId": "89a574a8-4dab-4d50-ed50-fdc8960f7bbf",
        "colab": {
          "base_uri": "https://localhost:8080/"
        }
      },
      "source": [
        "# View the first test data example sentence\n",
        "# (invert the word index)\n",
        "inv_imdb_word_index = {value:key for key, value in imdb_word_index.items()}\n",
        "[inv_imdb_word_index[index] for index in x_test[0] if index > 2]"
      ],
      "execution_count": 58,
      "outputs": [
        {
          "output_type": "execute_result",
          "data": {
            "text/plain": [
              "['please',\n",
              " 'give',\n",
              " 'this',\n",
              " 'one',\n",
              " 'a',\n",
              " 'miss',\n",
              " 'br',\n",
              " 'br',\n",
              " 'and',\n",
              " 'the',\n",
              " 'rest',\n",
              " 'of',\n",
              " 'the',\n",
              " 'cast',\n",
              " 'rendered',\n",
              " 'terrible',\n",
              " 'performances',\n",
              " 'the',\n",
              " 'show',\n",
              " 'is',\n",
              " 'flat',\n",
              " 'flat',\n",
              " 'flat',\n",
              " 'br',\n",
              " 'br',\n",
              " 'i',\n",
              " \"don't\",\n",
              " 'know',\n",
              " 'how',\n",
              " 'michael',\n",
              " 'madison',\n",
              " 'could',\n",
              " 'have',\n",
              " 'allowed',\n",
              " 'this',\n",
              " 'one',\n",
              " 'on',\n",
              " 'his',\n",
              " 'plate',\n",
              " 'he',\n",
              " 'almost',\n",
              " 'seemed',\n",
              " 'to',\n",
              " 'know',\n",
              " 'this',\n",
              " \"wasn't\",\n",
              " 'going',\n",
              " 'to',\n",
              " 'work',\n",
              " 'out',\n",
              " 'and',\n",
              " 'his',\n",
              " 'performance',\n",
              " 'was',\n",
              " 'quite',\n",
              " 'so',\n",
              " 'all',\n",
              " 'you',\n",
              " 'madison',\n",
              " 'fans',\n",
              " 'give',\n",
              " 'this',\n",
              " 'a',\n",
              " 'miss']"
            ]
          },
          "metadata": {
            "tags": []
          },
          "execution_count": 58
        }
      ]
    },
    {
      "cell_type": "code",
      "metadata": {
        "id": "7ragaSEqqWgD",
        "outputId": "4d406c6c-ab94-4c5c-b6b3-6ef088e93694",
        "colab": {
          "base_uri": "https://localhost:8080/"
        }
      },
      "source": [
        "# Get the model prediction using model.predict()\n",
        "model.predict(x_test[None, 0, :]) "
      ],
      "execution_count": 59,
      "outputs": [
        {
          "output_type": "execute_result",
          "data": {
            "text/plain": [
              "array([[0.1311594]], dtype=float32)"
            ]
          },
          "metadata": {
            "tags": []
          },
          "execution_count": 59
        }
      ]
    },
    {
      "cell_type": "code",
      "metadata": {
        "id": "rJW9UGY5qWgE",
        "outputId": "4f94e7ab-89de-4355-fa7b-dc32e8d64210",
        "colab": {
          "base_uri": "https://localhost:8080/"
        }
      },
      "source": [
        "# Get the corresponding label\n",
        "y_test[0]"
      ],
      "execution_count": 60,
      "outputs": [
        {
          "output_type": "execute_result",
          "data": {
            "text/plain": [
              "0"
            ]
          },
          "metadata": {
            "tags": []
          },
          "execution_count": 60
        }
      ]
    },
    {
      "cell_type": "markdown",
      "metadata": {
        "id": "QeA_UmhFqWgE"
      },
      "source": [
        "---\n",
        "<a id=\"coding_tutorial_6\"></a>\n",
        "## Stacked RNNs and the Bidirectional wrapper"
      ]
    },
    {
      "cell_type": "markdown",
      "metadata": {
        "id": "KS6p3aiaqWgE"
      },
      "source": [
        "#### Load and transform the IMDB review sentiment dataset"
      ]
    },
    {
      "cell_type": "code",
      "metadata": {
        "id": "YTZO_BnGqWgF"
      },
      "source": [
        "# A function to load and preprocess the IMDB dataset\n",
        "\n",
        "def get_and_pad_imdb_dataset(num_words=10000, maxlen=None, index_from=2):\n",
        "    from tensorflow.keras.datasets import imdb\n",
        "\n",
        "    # Load the reviews\n",
        "    (x_train, y_train), (x_test, y_test) = imdb.load_data(path='imdb.npz',\n",
        "                                                          num_words=num_words,\n",
        "                                                          skip_top=0,\n",
        "                                                          maxlen=maxlen,\n",
        "                                                          start_char=1,\n",
        "                                                          oov_char=2,\n",
        "                                                          index_from=index_from)\n",
        "\n",
        "    x_train = tf.keras.preprocessing.sequence.pad_sequences(x_train,\n",
        "                                                        maxlen=None,\n",
        "                                                        padding='pre',\n",
        "                                                        truncating='pre',\n",
        "                                                        value=0)\n",
        "    \n",
        "    x_test = tf.keras.preprocessing.sequence.pad_sequences(x_test,\n",
        "                                                           maxlen=None,\n",
        "                                                           padding='pre',\n",
        "                                                           truncating='pre',\n",
        "                                                           value=0)\n",
        "    return (x_train, y_train), (x_test, y_test)"
      ],
      "execution_count": 61,
      "outputs": []
    },
    {
      "cell_type": "code",
      "metadata": {
        "id": "W56ydCXPqWgF"
      },
      "source": [
        "# Load the dataset\n",
        "(x_train, y_train), (x_test, y_test) = get_and_pad_imdb_dataset(maxlen=250)"
      ],
      "execution_count": 62,
      "outputs": []
    },
    {
      "cell_type": "code",
      "metadata": {
        "id": "g8J03nRMqWgG"
      },
      "source": [
        "# A function to get the dataset word index\n",
        "\n",
        "def get_imdb_word_index(num_words=10000, index_from=2):\n",
        "    imdb_word_index = tf.keras.datasets.imdb.get_word_index(\n",
        "                                        path='imdb_word_index.json')\n",
        "    imdb_word_index = {key: value + index_from for\n",
        "                       key, value in imdb_word_index.items() if value <= num_words-index_from}\n",
        "    return imdb_word_index"
      ],
      "execution_count": 63,
      "outputs": []
    },
    {
      "cell_type": "code",
      "metadata": {
        "id": "Vrx5iDyWqWgH"
      },
      "source": [
        "# Get the word index using get_imdb_word_index()\n",
        "imdb_word_index = get_imdb_word_index(num_words=5000)"
      ],
      "execution_count": 64,
      "outputs": []
    },
    {
      "cell_type": "markdown",
      "metadata": {
        "id": "T-hGxIaDqWgH"
      },
      "source": [
        "#### Build stacked and bidirectional recurrent models"
      ]
    },
    {
      "cell_type": "code",
      "metadata": {
        "id": "lRXocDcKqWgI"
      },
      "source": [
        "# Get the maximum index value and specify an embedding dimension\n",
        "max_index_value = max(imbd_word_index.values())\n",
        "embedding_dim = 16"
      ],
      "execution_count": 65,
      "outputs": []
    },
    {
      "cell_type": "code",
      "metadata": {
        "id": "bMqcb9xzqWgI"
      },
      "source": [
        "# Using Sequential, build a stacked LSTM model via return_sequences=True\n",
        "model = tf.keras.Sequential([\n",
        "    tf.keras.layers.Embedding(input_dim=max_index_value+1, output_dim=embedding_dim, mask_zero=True),\n",
        "    tf.keras.layers.LSTM(units=32, return_sequences=True),\n",
        "    tf.keras.layers.LSTM(units=32, return_sequences=False),\n",
        "    tf.keras.layers.Dense(units=1, activation='sigmoid'),\n",
        "])"
      ],
      "execution_count": 68,
      "outputs": []
    },
    {
      "cell_type": "code",
      "metadata": {
        "id": "uycVYjvwqWgJ"
      },
      "source": [
        "# Using Sequential, build a bidirectional RNN with merge_mode='sum'\n",
        "model = tf.keras.Sequential([\n",
        "    tf.keras.layers.Embedding(input_dim=max_index_value+1, output_dim=embedding_dim, mask_zero=True),\n",
        "    tf.keras.layers.Bidirectional(\n",
        "        tf.keras.layers.LSTM(units=8),\n",
        "        merge_mode='sum',\n",
        "        backward_layer=tf.keras.layers.LSTM(units=8, go_backwards=True)\n",
        "        ),\n",
        "    tf.keras.layers.Dense(units=1, activation='sigmoid')\n",
        "    ])"
      ],
      "execution_count": 70,
      "outputs": []
    },
    {
      "cell_type": "code",
      "metadata": {
        "id": "POSAlRDfqWgK"
      },
      "source": [
        "# Create a model featuring both stacked recurrent layers and a bidirectional layer\n",
        "model = tf.keras.Sequential([\n",
        "    tf.keras.layers.Embedding(input_dim=max_index_value+1, output_dim=embedding_dim, mask_zero=True),\n",
        "    tf.keras.layers.Bidirectional(tf.keras.layers.LSTM(units=8, return_sequences=True), merge_mode='concat'),\n",
        "    tf.keras.layers.GRU(units=8, return_sequences=False),\n",
        "    tf.keras.layers.Dense(units=1, activation='sigmoid')\n",
        "    ])"
      ],
      "execution_count": 72,
      "outputs": []
    },
    {
      "cell_type": "markdown",
      "metadata": {
        "id": "EqNLtBxLqWgL"
      },
      "source": [
        "#### Compile and fit the model"
      ]
    },
    {
      "cell_type": "code",
      "metadata": {
        "id": "ocSLE-rnqWgL"
      },
      "source": [
        "# Compile the model\n",
        "model.compile(loss='binary_crossentropy', metrics=['accuracy'], optimizer='adam')"
      ],
      "execution_count": 73,
      "outputs": []
    },
    {
      "cell_type": "code",
      "metadata": {
        "id": "QZ0kWS6NqWgM",
        "outputId": "6f2d1d8e-2345-4793-e1e6-799d1117d7a0",
        "colab": {
          "base_uri": "https://localhost:8080/"
        }
      },
      "source": [
        "# Train the model, saving its history\n",
        "model.fit(x_train, y_train, epochs=3, batch_size=32)"
      ],
      "execution_count": 74,
      "outputs": [
        {
          "output_type": "stream",
          "text": [
            "Epoch 1/3\n",
            "536/536 [==============================] - 145s 271ms/step - loss: 0.4255 - accuracy: 0.7955\n",
            "Epoch 2/3\n",
            "536/536 [==============================] - 142s 265ms/step - loss: 0.2211 - accuracy: 0.9200\n",
            "Epoch 3/3\n",
            "536/536 [==============================] - 139s 259ms/step - loss: 0.1443 - accuracy: 0.9516\n"
          ],
          "name": "stdout"
        },
        {
          "output_type": "execute_result",
          "data": {
            "text/plain": [
              "<tensorflow.python.keras.callbacks.History at 0x7fa951eb1c88>"
            ]
          },
          "metadata": {
            "tags": []
          },
          "execution_count": 74
        }
      ]
    },
    {
      "cell_type": "code",
      "metadata": {
        "id": "_rqYefa0qWgM",
        "outputId": "0394f40d-0703-46a7-c883-336baf8df3d4",
        "colab": {
          "base_uri": "https://localhost:8080/",
          "height": 354
        }
      },
      "source": [
        "# Plot the training and validation accuracy\n",
        "import matplotlib.pyplot as plt\n",
        "%matplotlib inline\n",
        "plt.style.use('ggplot')\n",
        "\n",
        "history_dict = history.history\n",
        "\n",
        "acc      = history_dict['accuracy']\n",
        "val_acc  = history_dict['val_accuracy']\n",
        "loss     = history_dict['loss']\n",
        "val_loss = history_dict['val_loss']\n",
        "\n",
        "epochs = range(1, len(acc) + 1)\n",
        "\n",
        "plt.figure(figsize=(14,5))\n",
        "plt.plot(epochs, acc, marker='.', label='Training acc')\n",
        "plt.plot(epochs, val_acc, marker='.', label='Validation acc')\n",
        "plt.title('Training and validation accuracy')\n",
        "plt.xlabel('Epoch')\n",
        "plt.ylabel('Classification accuracy')\n",
        "plt.legend(loc='lower right')\n",
        "plt.ylim(0, 1);"
      ],
      "execution_count": 75,
      "outputs": [
        {
          "output_type": "display_data",
          "data": {
            "image/png": "[encoded data removed]",
            "text/plain": [
              "<Figure size 1008x360 with 1 Axes>"
            ]
          },
          "metadata": {
            "tags": []
          }
        }
      ]
    }
  ]
}