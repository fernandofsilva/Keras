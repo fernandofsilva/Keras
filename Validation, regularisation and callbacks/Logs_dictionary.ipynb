{
  "nbformat": 4,
  "nbformat_minor": 0,
  "metadata": {
    "kernelspec": {
      "display_name": "Python 3",
      "language": "python",
      "name": "python3"
    },
    "language_info": {
      "codemirror_mode": {
        "name": "ipython",
        "version": 3
      },
      "file_extension": ".py",
      "mimetype": "text/x-python",
      "name": "python",
      "nbconvert_exporter": "python",
      "pygments_lexer": "ipython3",
      "version": "3.7.1"
    },
    "colab": {
      "name": "Logs dictionary.ipynb",
      "provenance": [],
      "include_colab_link": true
    }
  },
  "cells": [
    {
      "cell_type": "markdown",
      "metadata": {
        "id": "view-in-github",
        "colab_type": "text"
      },
      "source": [
        "<a href=\"https://colab.research.google.com/github/fernandofsilva/Keras/blob/main/Logs_dictionary.ipynb\" target=\"_parent\"><img src=\"https://colab.research.google.com/assets/colab-badge.svg\" alt=\"Open In Colab\"/></a>"
      ]
    },
    {
      "cell_type": "markdown",
      "metadata": {
        "id": "X9oP1MAOMSvB"
      },
      "source": [
        "# Using the logs dictionary\n",
        "\n",
        "In this reading, we will learn how to take advantage of the `logs` dictionary in Keras to define our own callbacks and check the progress of a model."
      ]
    },
    {
      "cell_type": "code",
      "metadata": {
        "id": "WKN0dEB-MSvC",
        "outputId": "682783df-0c54-4aaf-acd3-dba8737a3693",
        "colab": {
          "base_uri": "https://localhost:8080/"
        }
      },
      "source": [
        "import tensorflow as tf\n",
        "print(tf.__version__)"
      ],
      "execution_count": 1,
      "outputs": [
        {
          "output_type": "stream",
          "text": [
            "2.3.0\n"
          ],
          "name": "stdout"
        }
      ]
    },
    {
      "cell_type": "markdown",
      "metadata": {
        "id": "p1bzbGDWMSvI"
      },
      "source": [
        "The `logs` dictionary stores the loss value, along with all of the metrics we are using at the end of a batch or epoch.\n",
        "\n",
        "We can incorporate information from the `logs` dictionary into our own custom callbacks.\n",
        "\n",
        "Let's see this in action in the context of a model we will construct and fit to the `sklearn` diabetes dataset that we have been using in this module.\n",
        "\n",
        "Let's first import the dataset, and split it into the training and test sets."
      ]
    },
    {
      "cell_type": "code",
      "metadata": {
        "id": "Wr6jc5A1MSvJ"
      },
      "source": [
        "# Load the diabetes dataset\n",
        "from sklearn.datasets import load_diabetes\n",
        "\n",
        "diabetes_dataset = load_diabetes()"
      ],
      "execution_count": 2,
      "outputs": []
    },
    {
      "cell_type": "code",
      "metadata": {
        "id": "8BdSvYAbMSvN"
      },
      "source": [
        "# Save the input and target variables\n",
        "from sklearn.model_selection import train_test_split\n",
        "\n",
        "data = diabetes_dataset['data']\n",
        "targets = diabetes_dataset['target']"
      ],
      "execution_count": 3,
      "outputs": []
    },
    {
      "cell_type": "code",
      "metadata": {
        "id": "_xTMBez_MSvQ"
      },
      "source": [
        "# Split the data set into training and test sets\n",
        "train_data, test_data, train_targets, test_targets = train_test_split(data, targets, test_size=0.1)"
      ],
      "execution_count": 4,
      "outputs": []
    },
    {
      "cell_type": "markdown",
      "metadata": {
        "id": "lZGdddUiMSvS"
      },
      "source": [
        "Now we construct our model."
      ]
    },
    {
      "cell_type": "code",
      "metadata": {
        "id": "dpxDHnSeMSvS"
      },
      "source": [
        "# Build the model\n",
        "from tensorflow.keras.models import Sequential\n",
        "from tensorflow.keras.layers import Dense\n",
        "\n",
        "model = tf.keras.Sequential([\n",
        "    Dense(128, activation='relu', input_shape=(train_data.shape[1],)),\n",
        "    Dense(64,activation='relu'),\n",
        "    tf.keras.layers.BatchNormalization(),\n",
        "    Dense(64, activation='relu'),\n",
        "    Dense(64, activation='relu'),\n",
        "    Dense(1)        \n",
        "])"
      ],
      "execution_count": 5,
      "outputs": []
    },
    {
      "cell_type": "markdown",
      "metadata": {
        "id": "vQiHXt_nMSvU"
      },
      "source": [
        "We now compile the model, with\n",
        "* Mean squared error as the loss function,\n",
        "* the Adam optimizer, and \n",
        "* Mean absolute error (`mae`) as a metric."
      ]
    },
    {
      "cell_type": "code",
      "metadata": {
        "id": "EX2DVbBeMSvV"
      },
      "source": [
        "# Compile the model\n",
        "model.compile(loss='mse', optimizer=\"adam\", metrics=['mae'])"
      ],
      "execution_count": 6,
      "outputs": []
    },
    {
      "cell_type": "markdown",
      "metadata": {
        "id": "MCCnZVoKMSvX"
      },
      "source": [
        "### Defining a custom callback\n",
        "\n",
        "Now we define our custom callback using the `logs` dictionary to access the loss and metric values."
      ]
    },
    {
      "cell_type": "code",
      "metadata": {
        "id": "O-uCwqfHMSvX"
      },
      "source": [
        "# Create the custom callback\n",
        "class LossAndMetricCallback(tf.keras.callbacks.Callback):\n",
        "\n",
        "    # Print the loss after every second batch in the training set\n",
        "    def on_train_batch_end(self, batch, logs=None):\n",
        "        if batch %2 ==0:\n",
        "            print('\\n After batch {}, the loss is {:7.2f}.'.format(batch, logs['loss']))\n",
        "    \n",
        "    # Print the loss after each batch in the test set\n",
        "    def on_test_batch_end(self, batch, logs=None):\n",
        "        print('\\n After batch {}, the loss is {:7.2f}.'.format(batch, logs['loss']))\n",
        "\n",
        "    # Print the loss and mean absolute error after each epoch\n",
        "    def on_epoch_end(self, epoch, logs=None):\n",
        "        print('Epoch {}: Average loss is {:7.2f}, mean absolute error is {:7.2f}.'.format(epoch, logs['loss'], logs['mae']))\n",
        "    \n",
        "    # Notify the user when prediction has finished on each batch\n",
        "    def on_predict_batch_end(self,batch, logs=None):\n",
        "        print(\"Finished prediction on batch {}!\".format(batch))"
      ],
      "execution_count": 7,
      "outputs": []
    },
    {
      "cell_type": "markdown",
      "metadata": {
        "id": "a2tQuqJmMSvZ"
      },
      "source": [
        "We now fit the model to the data, and specify that we would like to use our custom callback `LossAndMetricCallback()`."
      ]
    },
    {
      "cell_type": "code",
      "metadata": {
        "id": "-p470boeMSva",
        "outputId": "4a4fd852-e42e-444c-f0bd-d15ee8d9516b",
        "colab": {
          "base_uri": "https://localhost:8080/"
        }
      },
      "source": [
        "# Train the model\n",
        "history = model.fit(train_data, train_targets, epochs=20,\n",
        "                    batch_size=100, callbacks=[LossAndMetricCallback()], verbose=False)"
      ],
      "execution_count": 8,
      "outputs": [
        {
          "output_type": "stream",
          "text": [
            "\n",
            " After batch 0, the loss is 29177.24.\n",
            "\n",
            " After batch 2, the loss is 30018.02.\n",
            "Epoch 0: Average loss is 28867.94, mean absolute error is  151.39.\n",
            "\n",
            " After batch 0, the loss is 27382.31.\n",
            "\n",
            " After batch 2, the loss is 28493.59.\n",
            "Epoch 1: Average loss is 28773.69, mean absolute error is  151.12.\n",
            "\n",
            " After batch 0, the loss is 28418.46.\n",
            "\n",
            " After batch 2, the loss is 27892.42.\n",
            "Epoch 2: Average loss is 28649.94, mean absolute error is  150.76.\n",
            "\n",
            " After batch 0, the loss is 29908.25.\n",
            "\n",
            " After batch 2, the loss is 28248.61.\n",
            "Epoch 3: Average loss is 28472.50, mean absolute error is  150.26.\n",
            "\n",
            " After batch 0, the loss is 28409.12.\n",
            "\n",
            " After batch 2, the loss is 27266.03.\n",
            "Epoch 4: Average loss is 28218.87, mean absolute error is  149.53.\n",
            "\n",
            " After batch 0, the loss is 31997.68.\n",
            "\n",
            " After batch 2, the loss is 28308.87.\n",
            "Epoch 5: Average loss is 27872.60, mean absolute error is  148.54.\n",
            "\n",
            " After batch 0, the loss is 29728.36.\n",
            "\n",
            " After batch 2, the loss is 27602.76.\n",
            "Epoch 6: Average loss is 27401.09, mean absolute error is  147.19.\n",
            "\n",
            " After batch 0, the loss is 23772.89.\n",
            "\n",
            " After batch 2, the loss is 26928.06.\n",
            "Epoch 7: Average loss is 26792.18, mean absolute error is  145.42.\n",
            "\n",
            " After batch 0, the loss is 22949.27.\n",
            "\n",
            " After batch 2, the loss is 25849.88.\n",
            "Epoch 8: Average loss is 25990.46, mean absolute error is  143.10.\n",
            "\n",
            " After batch 0, the loss is 26256.34.\n",
            "\n",
            " After batch 2, the loss is 25680.52.\n",
            "Epoch 9: Average loss is 24984.29, mean absolute error is  140.12.\n",
            "\n",
            " After batch 0, the loss is 24791.91.\n",
            "\n",
            " After batch 2, the loss is 23737.22.\n",
            "Epoch 10: Average loss is 23715.44, mean absolute error is  136.26.\n",
            "\n",
            " After batch 0, the loss is 21707.38.\n",
            "\n",
            " After batch 2, the loss is 22379.45.\n",
            "Epoch 11: Average loss is 22207.77, mean absolute error is  131.47.\n",
            "\n",
            " After batch 0, the loss is 19546.49.\n",
            "\n",
            " After batch 2, the loss is 20897.07.\n",
            "Epoch 12: Average loss is 20410.58, mean absolute error is  125.44.\n",
            "\n",
            " After batch 0, the loss is 20358.60.\n",
            "\n",
            " After batch 2, the loss is 18834.68.\n",
            "Epoch 13: Average loss is 18331.47, mean absolute error is  117.82.\n",
            "\n",
            " After batch 0, the loss is 17217.73.\n",
            "\n",
            " After batch 2, the loss is 15886.67.\n",
            "Epoch 14: Average loss is 16025.62, mean absolute error is  108.68.\n",
            "\n",
            " After batch 0, the loss is 14591.90.\n",
            "\n",
            " After batch 2, the loss is 14951.31.\n",
            "Epoch 15: Average loss is 13782.70, mean absolute error is   98.13.\n",
            "\n",
            " After batch 0, the loss is 12246.84.\n",
            "\n",
            " After batch 2, the loss is 11045.05.\n",
            "Epoch 16: Average loss is 11372.79, mean absolute error is   86.56.\n",
            "\n",
            " After batch 0, the loss is 9047.17.\n",
            "\n",
            " After batch 2, the loss is 9318.08.\n",
            "Epoch 17: Average loss is 9157.33, mean absolute error is   75.78.\n",
            "\n",
            " After batch 0, the loss is 8073.23.\n",
            "\n",
            " After batch 2, the loss is 7325.38.\n",
            "Epoch 18: Average loss is 7483.60, mean absolute error is   67.29.\n",
            "\n",
            " After batch 0, the loss is 5156.27.\n",
            "\n",
            " After batch 2, the loss is 5878.08.\n",
            "Epoch 19: Average loss is 6166.50, mean absolute error is   61.62.\n"
          ],
          "name": "stdout"
        }
      ]
    },
    {
      "cell_type": "markdown",
      "metadata": {
        "id": "JkXWxhwvMSvb"
      },
      "source": [
        "We can also use our callback in the `evaluate` function..."
      ]
    },
    {
      "cell_type": "code",
      "metadata": {
        "id": "T0n-rF2NMSvc",
        "outputId": "18b41a4c-d3d8-444c-d817-6b208cf26d4b",
        "colab": {
          "base_uri": "https://localhost:8080/"
        }
      },
      "source": [
        "# Evaluate the model\n",
        "model_eval = model.evaluate(test_data, test_targets, batch_size=10, \n",
        "                            callbacks=[LossAndMetricCallback()], verbose=False)"
      ],
      "execution_count": 9,
      "outputs": [
        {
          "output_type": "stream",
          "text": [
            "\n",
            " After batch 0, the loss is 19967.47.\n",
            "\n",
            " After batch 1, the loss is 16864.68.\n",
            "\n",
            " After batch 2, the loss is 17334.45.\n",
            "\n",
            " After batch 3, the loss is 17672.67.\n",
            "\n",
            " After batch 4, the loss is 18139.29.\n"
          ],
          "name": "stdout"
        }
      ]
    },
    {
      "cell_type": "markdown",
      "metadata": {
        "id": "iSEb_peMMSvd"
      },
      "source": [
        "...And also the `predict` function."
      ]
    },
    {
      "cell_type": "code",
      "metadata": {
        "id": "-x-NEwYsMSvd",
        "outputId": "b3b70aca-6acc-44ca-ffe3-c2c31890d006",
        "colab": {
          "base_uri": "https://localhost:8080/"
        }
      },
      "source": [
        "# Get predictions from the model\n",
        "model_pred = model.predict(\n",
        "    test_data,\n",
        "    batch_size=10,\n",
        "    callbacks=[LossAndMetricCallback()],\n",
        "    verbose=False\n",
        ")"
      ],
      "execution_count": 10,
      "outputs": [
        {
          "output_type": "stream",
          "text": [
            "Finished prediction on batch 0!\n",
            "Finished prediction on batch 1!\n",
            "Finished prediction on batch 2!\n",
            "Finished prediction on batch 3!\n",
            "Finished prediction on batch 4!\n"
          ],
          "name": "stdout"
        }
      ]
    },
    {
      "cell_type": "markdown",
      "metadata": {
        "id": "GTTyDif-MSvf"
      },
      "source": [
        "### Application - learning rate scheduler\n",
        "Let's now look at a more sophisticated custom callback. \n",
        "\n",
        "We are going to define a callback to change the learning rate of the optimiser of a model during training. We will do this by specifying the epochs and new learning rates where we would like it to be changed.\n",
        "\n",
        "First we define the auxillary function that returns the learning rate for each epoch based on our schedule."
      ]
    },
    {
      "cell_type": "code",
      "metadata": {
        "id": "0B0DZzW_MSvf"
      },
      "source": [
        "# Define the learning rate schedule. The tuples below are (start_epoch, new_learning_rate)\n",
        "lr_schedule = [\n",
        "    (4, 0.03), (7, 0.02), (11, 0.005), (15, 0.007)\n",
        "]\n",
        "\n",
        "def get_new_epoch_lr(epoch, lr):\n",
        "    # Checks to see if the input epoch is listed in the learning rate schedule \n",
        "    # and if so, returns index in lr_schedule\n",
        "    epoch_in_sched = [i for i in range(len(lr_schedule)) if lr_schedule[i][0]==int(epoch)]\n",
        "    if len(epoch_in_sched)>0:\n",
        "        # If it is, return the learning rate corresponding to the epoch\n",
        "        return lr_schedule[epoch_in_sched[0]][1]\n",
        "    else:\n",
        "        # Otherwise, return the existing learning rate\n",
        "        return lr"
      ],
      "execution_count": 11,
      "outputs": []
    },
    {
      "cell_type": "markdown",
      "metadata": {
        "id": "YDIRiJWwMSvh"
      },
      "source": [
        "Let's now define the callback itself."
      ]
    },
    {
      "cell_type": "code",
      "metadata": {
        "id": "lsDP8OAPMSvh"
      },
      "source": [
        "# Define the custom callback\n",
        "class LRScheduler(tf.keras.callbacks.Callback):\n",
        "    \n",
        "    def __init__(self, new_lr):\n",
        "        super(LRScheduler, self).__init__()\n",
        "        # Add the new learning rate function to our callback\n",
        "        self.new_lr = new_lr\n",
        "\n",
        "    def on_epoch_begin(self, epoch, logs=None):\n",
        "        # Make sure that the optimizer we have chosen has a learning rate, and raise an error if not\n",
        "        if not hasattr(self.model.optimizer, 'lr'):\n",
        "              raise ValueError('Error: Optimizer does not have a learning rate.')\n",
        "                \n",
        "        # Get the current learning rate\n",
        "        curr_rate = float(tf.keras.backend.get_value(self.model.optimizer.lr))\n",
        "        \n",
        "        # Call the auxillary function to get the scheduled learning rate for the current epoch\n",
        "        scheduled_rate = self.new_lr(epoch, curr_rate)\n",
        "\n",
        "        # Set the learning rate to the scheduled learning rate\n",
        "        tf.keras.backend.set_value(self.model.optimizer.lr, scheduled_rate)\n",
        "        print('Learning rate for epoch {} is {:7.3f}'.format(epoch, scheduled_rate))"
      ],
      "execution_count": 12,
      "outputs": []
    },
    {
      "cell_type": "markdown",
      "metadata": {
        "id": "VxqItiyWMSvj"
      },
      "source": [
        "Let's now train the model again with our new callback. "
      ]
    },
    {
      "cell_type": "code",
      "metadata": {
        "id": "vaqitFM9MSvj"
      },
      "source": [
        "# Build the same model as before\n",
        "new_model = tf.keras.Sequential([\n",
        "    Dense(128, activation='relu', input_shape=(train_data.shape[1],)),\n",
        "    Dense(64,activation='relu'),\n",
        "    tf.keras.layers.BatchNormalization(),\n",
        "    Dense(64, activation='relu'),\n",
        "    Dense(64, activation='relu'),\n",
        "    Dense(1)        \n",
        "])"
      ],
      "execution_count": 13,
      "outputs": []
    },
    {
      "cell_type": "code",
      "metadata": {
        "id": "Nsg4rZbFMSvk"
      },
      "source": [
        "# Compile the model\n",
        "new_model.compile(loss='mse',\n",
        "                optimizer=\"adam\",\n",
        "                metrics=['mae', 'mse'])"
      ],
      "execution_count": 14,
      "outputs": []
    },
    {
      "cell_type": "code",
      "metadata": {
        "id": "-B7RqiHOMSvl",
        "outputId": "137ccd34-461b-4a85-e955-b86d3abb148b",
        "colab": {
          "base_uri": "https://localhost:8080/"
        }
      },
      "source": [
        "# Fit the model with our learning rate scheduler callback\n",
        "new_history = new_model.fit(train_data, train_targets, epochs=20,\n",
        "                            batch_size=100, callbacks=[LRScheduler(get_new_epoch_lr)], verbose=False)"
      ],
      "execution_count": 15,
      "outputs": [
        {
          "output_type": "stream",
          "text": [
            "Learning rate for epoch 0 is   0.001\n",
            "Learning rate for epoch 1 is   0.001\n",
            "Learning rate for epoch 2 is   0.001\n",
            "Learning rate for epoch 3 is   0.001\n",
            "Learning rate for epoch 4 is   0.030\n",
            "Learning rate for epoch 5 is   0.030\n",
            "Learning rate for epoch 6 is   0.030\n",
            "Learning rate for epoch 7 is   0.020\n",
            "Learning rate for epoch 8 is   0.020\n",
            "Learning rate for epoch 9 is   0.020\n",
            "Learning rate for epoch 10 is   0.020\n",
            "Learning rate for epoch 11 is   0.005\n",
            "Learning rate for epoch 12 is   0.005\n",
            "Learning rate for epoch 13 is   0.005\n",
            "Learning rate for epoch 14 is   0.005\n",
            "Learning rate for epoch 15 is   0.007\n",
            "Learning rate for epoch 16 is   0.007\n",
            "Learning rate for epoch 17 is   0.007\n",
            "Learning rate for epoch 18 is   0.007\n",
            "Learning rate for epoch 19 is   0.007\n"
          ],
          "name": "stdout"
        }
      ]
    },
    {
      "cell_type": "markdown",
      "metadata": {
        "id": "iR1Bp2JtMSvm"
      },
      "source": [
        "### Further reading and resources\n",
        "* https://www.tensorflow.org/guide/keras/custom_callback\n",
        "* https://www.tensorflow.org/api_docs/python/tf/keras/callbacks/Callback"
      ]
    }
  ]
}