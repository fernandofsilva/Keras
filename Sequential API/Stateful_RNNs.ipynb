{
  "nbformat": 4,
  "nbformat_minor": 0,
  "metadata": {
    "kernelspec": {
      "display_name": "Python 3",
      "language": "python",
      "name": "python3"
    },
    "language_info": {
      "codemirror_mode": {
        "name": "ipython",
        "version": 3
      },
      "file_extension": ".py",
      "mimetype": "text/x-python",
      "name": "python",
      "nbconvert_exporter": "python",
      "pygments_lexer": "ipython3",
      "version": "3.7.1"
    },
    "colab": {
      "name": "Stateful RNNs.ipynb",
      "provenance": [],
      "include_colab_link": true
    }
  },
  "cells": [
    {
      "cell_type": "markdown",
      "metadata": {
        "id": "view-in-github",
        "colab_type": "text"
      },
      "source": [
        "<a href=\"https://colab.research.google.com/github/fernandofsilva/Keras/blob/main/Stateful_RNNs.ipynb\" target=\"_parent\"><img src=\"https://colab.research.google.com/assets/colab-badge.svg\" alt=\"Open In Colab\"/></a>"
      ]
    },
    {
      "cell_type": "markdown",
      "metadata": {
        "id": "hiCrtxUf5oUW"
      },
      "source": [
        "# Stateful RNNs"
      ]
    },
    {
      "cell_type": "markdown",
      "metadata": {
        "id": "icVbafq95oUc"
      },
      "source": [
        "In this reading notebook you will learn how to retain the state of an RNN when processing long sequences."
      ]
    },
    {
      "cell_type": "code",
      "metadata": {
        "id": "Cxpp1OQn5oUd",
        "outputId": "eb1d48eb-2558-47db-a9fa-09d007ec174e",
        "colab": {
          "base_uri": "https://localhost:8080/",
          "height": 37
        }
      },
      "source": [
        "import tensorflow as tf\n",
        "tf.__version__"
      ],
      "execution_count": 1,
      "outputs": [
        {
          "output_type": "execute_result",
          "data": {
            "application/vnd.google.colaboratory.intrinsic+json": {
              "type": "string"
            },
            "text/plain": [
              "'2.3.0'"
            ]
          },
          "metadata": {
            "tags": []
          },
          "execution_count": 1
        }
      ]
    },
    {
      "cell_type": "markdown",
      "metadata": {
        "id": "w9IGmzPg5oUj"
      },
      "source": [
        "So far you have trained RNNs on entire sequences, possibly of varying length. In some applications, such as financial time series modeling or real-time speech processing, the input sequence can be very long. \n",
        "\n",
        "One way to process such sequences is to simply chop up the sequences into separate batches. However, the internal state of the RNN would then normally be reset in between the batches. Persisting an RNN cell's state between batches is useful in such contexts."
      ]
    },
    {
      "cell_type": "markdown",
      "metadata": {
        "id": "Azs6nNLr5oUk"
      },
      "source": [
        "## Stateful and non-stateful RNN models\n",
        "We will begin by creating two versions of the same RNN model. The first is a regular RNN that does not retain its state."
      ]
    },
    {
      "cell_type": "code",
      "metadata": {
        "id": "AYXCPF-75oUl"
      },
      "source": [
        "# Create a regular (non-stateful) RNN\n",
        "from tensorflow.keras.models import Sequential\n",
        "from tensorflow.keras.layers import GRU\n",
        "\n",
        "gru = Sequential([\n",
        "    GRU(5, input_shape=(None, 1), name='rnn')\n",
        "])"
      ],
      "execution_count": 2,
      "outputs": []
    },
    {
      "cell_type": "markdown",
      "metadata": {
        "id": "uQ6NFoLB5oUp"
      },
      "source": [
        "To persist RNN cell states between batches, you can use the `stateful` argument when you initialize an RNN layer. The default value of this argument is `False`. This argument is available for all RNN layer types."
      ]
    },
    {
      "cell_type": "code",
      "metadata": {
        "id": "bn7WDn8d5oUp"
      },
      "source": [
        "# Create a stateful RNN\n",
        "stateful_gru = Sequential([\n",
        "    GRU(5, stateful=True, batch_input_shape=(2, None, 1), name='stateful_rnn')\n",
        "])"
      ],
      "execution_count": 3,
      "outputs": []
    },
    {
      "cell_type": "markdown",
      "metadata": {
        "id": "SWpXGupJ5oUs"
      },
      "source": [
        "Note that as well as setting `stateful=True`, we have also specified the `batch_input_shape`. This fixes the number of elements in a batch, as well as providing the sequence length and number of features. So the above model will always require a batch of 2 sequences.\n",
        "\n",
        "When using stateful RNNs, it is necessary to supply this argument to the first layer of a `Sequential` model. This is because the model will always assume that each element of every subsequent batch it receives will be a continuation of the sequence from the corresponding element in the previous batch.\n",
        "\n",
        "Another detail is that when defining a model with a stateful RNN using the functional API, you will need to specify the `batch_shape` argument as follows:"
      ]
    },
    {
      "cell_type": "code",
      "metadata": {
        "id": "oHUvfxA35oUt"
      },
      "source": [
        "# Redefine the same stateful RNN using the functional API\n",
        "\n",
        "from tensorflow.keras.models import Model\n",
        "from tensorflow.keras.layers import Input\n",
        "\n",
        "inputs = Input(batch_shape=(2, None, 1))\n",
        "outputs = GRU(5, stateful=True, name='stateful_rnn')(inputs)\n",
        "\n",
        "stateful_gru = Model(inputs=inputs, outputs=outputs)"
      ],
      "execution_count": 4,
      "outputs": []
    },
    {
      "cell_type": "markdown",
      "metadata": {
        "id": "VDmz1Jw15oUv"
      },
      "source": [
        "### Inspect the RNN states\n",
        "We can inspect the RNN layer states by retrieving the recurrent layer from each model, and looking at the `states` property."
      ]
    },
    {
      "cell_type": "code",
      "metadata": {
        "id": "EpLR5WAA5oUv",
        "outputId": "26d2398d-ad90-4e12-8245-392c2cdbb8fe",
        "colab": {
          "base_uri": "https://localhost:8080/"
        }
      },
      "source": [
        "# Retrieve the RNN layer and inspect the internal state\n",
        "gru.get_layer('rnn').states"
      ],
      "execution_count": 5,
      "outputs": [
        {
          "output_type": "execute_result",
          "data": {
            "text/plain": [
              "[None]"
            ]
          },
          "metadata": {
            "tags": []
          },
          "execution_count": 5
        }
      ]
    },
    {
      "cell_type": "code",
      "metadata": {
        "id": "cWFhVkZW5oUx",
        "outputId": "a0edcdaf-32d9-424b-b53a-5847b0700618",
        "colab": {
          "base_uri": "https://localhost:8080/"
        }
      },
      "source": [
        "# Retrieve the RNN layer and inspect the internal state\n",
        "stateful_gru.get_layer('stateful_rnn').states"
      ],
      "execution_count": 6,
      "outputs": [
        {
          "output_type": "execute_result",
          "data": {
            "text/plain": [
              "[<tf.Variable 'stateful_rnn/Variable:0' shape=(2, 5) dtype=float32, numpy=\n",
              " array([[0., 0., 0., 0., 0.],\n",
              "        [0., 0., 0., 0., 0.]], dtype=float32)>]"
            ]
          },
          "metadata": {
            "tags": []
          },
          "execution_count": 6
        }
      ]
    },
    {
      "cell_type": "markdown",
      "metadata": {
        "id": "8E57j8io5oUz"
      },
      "source": [
        "Note that the internal state of the stateful RNN has a state stored for each element in a batch, which is why the shape of the state Variable is `(2, 5)`."
      ]
    },
    {
      "cell_type": "markdown",
      "metadata": {
        "id": "xKHpwayo5oUz"
      },
      "source": [
        "### Create a simple sequence dataset\n",
        "We will demonstrate the effect of statefulness on a simple sequence dataset consisting of two sequences."
      ]
    },
    {
      "cell_type": "code",
      "metadata": {
        "id": "8hs-dDgP5oUz",
        "outputId": "9195e1bd-0493-427b-cec8-1256bf99f061",
        "colab": {
          "base_uri": "https://localhost:8080/"
        }
      },
      "source": [
        "# Create the sequence dataset\n",
        "sequence_data = tf.constant([\n",
        "    [[-4.], [-3.], [-2.], [-1.], [0.], [1.], [2.], [3.], [4.]],\n",
        "    [[-40.], [-30.], [-20.], [-10.], [0.], [10.], [20.], [30.], [40.]]\n",
        "], dtype=tf.float32)\n",
        "sequence_data.shape"
      ],
      "execution_count": 7,
      "outputs": [
        {
          "output_type": "execute_result",
          "data": {
            "text/plain": [
              "TensorShape([2, 9, 1])"
            ]
          },
          "metadata": {
            "tags": []
          },
          "execution_count": 7
        }
      ]
    },
    {
      "cell_type": "markdown",
      "metadata": {
        "id": "kEET4Ib05oU0"
      },
      "source": [
        "### Process the sequence batch with both models"
      ]
    },
    {
      "cell_type": "markdown",
      "metadata": {
        "id": "9swwwrse5oU1"
      },
      "source": [
        "Now see what happens when you pass the batch of sequences through either model:"
      ]
    },
    {
      "cell_type": "code",
      "metadata": {
        "id": "JkYqiHJc5oU1"
      },
      "source": [
        "# Process the batch with both models\n",
        "_1 = gru(sequence_data)\n",
        "_2 = stateful_gru(sequence_data)"
      ],
      "execution_count": 8,
      "outputs": []
    },
    {
      "cell_type": "code",
      "metadata": {
        "id": "6eDAt4Tx5oU5",
        "outputId": "cde71ed5-d0d3-415f-fe2c-fd740dc09060",
        "colab": {
          "base_uri": "https://localhost:8080/"
        }
      },
      "source": [
        "# Retrieve the RNN layer and inspect the internal state\n",
        "gru.get_layer('rnn').states"
      ],
      "execution_count": 9,
      "outputs": [
        {
          "output_type": "execute_result",
          "data": {
            "text/plain": [
              "[None]"
            ]
          },
          "metadata": {
            "tags": []
          },
          "execution_count": 9
        }
      ]
    },
    {
      "cell_type": "code",
      "metadata": {
        "id": "vkCakbbu5oU9",
        "outputId": "60bd73c7-9d47-42ed-e009-5b6eb5175b52",
        "colab": {
          "base_uri": "https://localhost:8080/"
        }
      },
      "source": [
        "# Retrieve the RNN layer and inspect the internal state\n",
        "stateful_gru.get_layer('stateful_rnn').states"
      ],
      "execution_count": 10,
      "outputs": [
        {
          "output_type": "execute_result",
          "data": {
            "text/plain": [
              "[<tf.Variable 'stateful_rnn/Variable:0' shape=(2, 5) dtype=float32, numpy=\n",
              " array([[ 0.63437283, -0.11944649, -0.6992477 , -0.44479635,  0.8064035 ],\n",
              "        [ 0.9999996 ,  0.12358701,  0.20505495,  0.58581173,  0.9528726 ]],\n",
              "       dtype=float32)>]"
            ]
          },
          "metadata": {
            "tags": []
          },
          "execution_count": 10
        }
      ]
    },
    {
      "cell_type": "markdown",
      "metadata": {
        "id": "yb_VfY1t5oVA"
      },
      "source": [
        "The stateful RNN model has updated and retained its state after having processed the input sequence batch. This internal state could then be used as the initial state for processing a continuation of both sequences in the next batch."
      ]
    },
    {
      "cell_type": "markdown",
      "metadata": {
        "id": "288uWYoo5oVB"
      },
      "source": [
        "### Resetting the internal state\n",
        "If you need a stateful RNN to forget (or re-initialise) its state, then you can call an RNN layer's `reset_states()` method."
      ]
    },
    {
      "cell_type": "code",
      "metadata": {
        "id": "wYLKX_Z_5oVB"
      },
      "source": [
        "# Reset the internal state of the stateful RNN model\n",
        "stateful_gru.get_layer('stateful_rnn').reset_states()"
      ],
      "execution_count": 11,
      "outputs": []
    },
    {
      "cell_type": "code",
      "metadata": {
        "id": "kGWHOScV5oVC",
        "outputId": "e3d0d034-aaa3-4a53-86dd-0f4df137b270",
        "colab": {
          "base_uri": "https://localhost:8080/"
        }
      },
      "source": [
        "# Retrieve the RNN layer and inspect the internal state\n",
        "stateful_gru.get_layer('stateful_rnn').states"
      ],
      "execution_count": 12,
      "outputs": [
        {
          "output_type": "execute_result",
          "data": {
            "text/plain": [
              "[<tf.Variable 'stateful_rnn/Variable:0' shape=(2, 5) dtype=float32, numpy=\n",
              " array([[0., 0., 0., 0., 0.],\n",
              "        [0., 0., 0., 0., 0.]], dtype=float32)>]"
            ]
          },
          "metadata": {
            "tags": []
          },
          "execution_count": 12
        }
      ]
    },
    {
      "cell_type": "markdown",
      "metadata": {
        "id": "tZ5vnjsV5oVD"
      },
      "source": [
        "Note that `reset_states()` resets the state to `0.`, which is the default initial state for the RNN layers in TensorFlow."
      ]
    },
    {
      "cell_type": "markdown",
      "metadata": {
        "id": "os1Yl1C25oVE"
      },
      "source": [
        "### Retaining internal state across batches\n",
        "Passing a sequence to a stateful layer as several subsequences produces the same final output as passing the whole sequence at once."
      ]
    },
    {
      "cell_type": "code",
      "metadata": {
        "id": "ECeLBCkQ5oVE",
        "outputId": "c8d23fb1-8e28-4b23-b3db-cbbc1fef6d2f",
        "colab": {
          "base_uri": "https://localhost:8080/"
        }
      },
      "source": [
        "# Reset the internal state of the stateful RNN model and process the full sequences\n",
        "stateful_gru.get_layer('stateful_rnn').reset_states()\n",
        "_ = stateful_gru(sequence_data)\n",
        "stateful_gru.get_layer('stateful_rnn').states"
      ],
      "execution_count": 13,
      "outputs": [
        {
          "output_type": "execute_result",
          "data": {
            "text/plain": [
              "[<tf.Variable 'stateful_rnn/Variable:0' shape=(2, 5) dtype=float32, numpy=\n",
              " array([[ 0.63437283, -0.11944649, -0.6992477 , -0.44479635,  0.8064035 ],\n",
              "        [ 0.9999996 ,  0.12358701,  0.20505495,  0.58581173,  0.9528726 ]],\n",
              "       dtype=float32)>]"
            ]
          },
          "metadata": {
            "tags": []
          },
          "execution_count": 13
        }
      ]
    },
    {
      "cell_type": "code",
      "metadata": {
        "id": "yL5hEUdC5oVF",
        "outputId": "7c665b8d-a210-4994-fd3b-cd8c92d07869",
        "colab": {
          "base_uri": "https://localhost:8080/"
        }
      },
      "source": [
        "# Break the sequences into batches\n",
        "sequence_batch1 = sequence_data[:, :3, :]\n",
        "sequence_batch2 = sequence_data[:, 3:6, :]\n",
        "sequence_batch3 = sequence_data[:, 6:, :]\n",
        "\n",
        "print(\"First batch:\", sequence_batch1)\n",
        "print(\"\\nSecond batch:\", sequence_batch2)\n",
        "print(\"\\nThird batch:\", sequence_batch3)"
      ],
      "execution_count": 14,
      "outputs": [
        {
          "output_type": "stream",
          "text": [
            "First batch: tf.Tensor(\n",
            "[[[ -4.]\n",
            "  [ -3.]\n",
            "  [ -2.]]\n",
            "\n",
            " [[-40.]\n",
            "  [-30.]\n",
            "  [-20.]]], shape=(2, 3, 1), dtype=float32)\n",
            "\n",
            "Second batch: tf.Tensor(\n",
            "[[[ -1.]\n",
            "  [  0.]\n",
            "  [  1.]]\n",
            "\n",
            " [[-10.]\n",
            "  [  0.]\n",
            "  [ 10.]]], shape=(2, 3, 1), dtype=float32)\n",
            "\n",
            "Third batch: tf.Tensor(\n",
            "[[[ 2.]\n",
            "  [ 3.]\n",
            "  [ 4.]]\n",
            "\n",
            " [[20.]\n",
            "  [30.]\n",
            "  [40.]]], shape=(2, 3, 1), dtype=float32)\n"
          ],
          "name": "stdout"
        }
      ]
    },
    {
      "cell_type": "markdown",
      "metadata": {
        "id": "ODjXp5P_5oVG"
      },
      "source": [
        "Note that the first element in every batch is part of the same sequence, and the second element in every batch is part of the same sequence."
      ]
    },
    {
      "cell_type": "code",
      "metadata": {
        "id": "gYs9MNh95oVH",
        "outputId": "09d0d0ab-5302-4803-8259-249646457b6a",
        "colab": {
          "base_uri": "https://localhost:8080/"
        }
      },
      "source": [
        "# Reset the internal state of the stateful RNN model and process the batches in order\n",
        "stateful_gru.get_layer('stateful_rnn').reset_states()\n",
        "_ = stateful_gru(sequence_batch1)\n",
        "_ = stateful_gru(sequence_batch2)\n",
        "_ = stateful_gru(sequence_batch3)\n",
        "stateful_gru.get_layer('stateful_rnn').states"
      ],
      "execution_count": 15,
      "outputs": [
        {
          "output_type": "execute_result",
          "data": {
            "text/plain": [
              "[<tf.Variable 'stateful_rnn/Variable:0' shape=(2, 5) dtype=float32, numpy=\n",
              " array([[ 0.63437283, -0.11944649, -0.6992477 , -0.44479635,  0.8064035 ],\n",
              "        [ 0.9999996 ,  0.12358701,  0.20505495,  0.58581173,  0.9528726 ]],\n",
              "       dtype=float32)>]"
            ]
          },
          "metadata": {
            "tags": []
          },
          "execution_count": 15
        }
      ]
    },
    {
      "cell_type": "markdown",
      "metadata": {
        "id": "OsOI8HzM5oVI"
      },
      "source": [
        "Notice that the internal state of the stateful RNN after processing each batch is the same as it was earlier when we processed the entire sequence at once.\n",
        "\n",
        "This property can be used when training stateful RNNs, if we ensure that each example in a batch is a continuation of the same sequence as the corresponding example in the previous batch."
      ]
    },
    {
      "cell_type": "markdown",
      "metadata": {
        "id": "SlrUY5GS5oVJ"
      },
      "source": [
        "## Further reading and resources\n",
        "* https://www.tensorflow.org/guide/keras/rnn#cross-batch_statefulness"
      ]
    }
  ]
}